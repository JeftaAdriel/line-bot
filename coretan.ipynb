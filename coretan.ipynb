{
 "cells": [
  {
   "cell_type": "code",
   "execution_count": 2,
   "metadata": {},
   "outputs": [
    {
     "data": {
      "text/plain": [
       "True"
      ]
     },
     "execution_count": 2,
     "metadata": {},
     "output_type": "execute_result"
    }
   ],
   "source": [
    "import os, io\n",
    "from dotenv import load_dotenv\n",
    "from pydantic import BaseModel\n",
    "\n",
    "import typing_extensions as typing\n",
    "\n",
    "load_dotenv()"
   ]
  },
  {
   "cell_type": "code",
   "execution_count": 19,
   "metadata": {},
   "outputs": [
    {
     "name": "stdout",
     "output_type": "stream",
     "text": [
      "I decided I wished to be like you as well, Naruto-kun, and for that reason...with Orochimaru-sama now intregrated into this body, I plan on finding a new \"me\", one stronger than Orochimaru-sama himself!\n",
      "\n",
      "- Kabuto Yakushi from Naruto\n"
     ]
    }
   ],
   "source": [
    "import requests\n",
    "\n",
    "\"\"\"\n",
    "Replace \"Your-API-Token\" with the token you got from the Kohai Bot and the endpoint.\n",
    "\"\"\"\n",
    "url = \"https://waifu.it/api/v4/quote\"\n",
    "\n",
    "response = requests.get(url, headers={\"Authorization\": os.environ.get(\"WAIFUIT_TOKEN\")})\n",
    "data = response.json()\n",
    "text = f\"{data['quote']}\\n\\n- {data['author']} from {data['anime']}\"\n",
    "print(text)\n"
   ]
  },
  {
   "cell_type": "code",
   "execution_count": 16,
   "metadata": {},
   "outputs": [
    {
     "data": {
      "text/plain": [
       "{'frameCount': 11269895,\n",
       " 'error': '',\n",
       " 'result': [{'anilist': {'id': 21034,\n",
       "    'idMal': 29787,\n",
       "    'title': {'native': 'ご注文はうさぎですか？？',\n",
       "     'romaji': 'Gochuumon wa Usagi desu ka??',\n",
       "     'english': 'Is the Order a Rabbit?? Season 2'},\n",
       "    'synonyms': ['Gochiusa'],\n",
       "    'isAdult': False},\n",
       "   'filename': '[Leopard-Raws] Gochuumon wa Usagi Desu ka 2nd - 01 RAW (KBS 1280x720 x264 AAC).mp4',\n",
       "   'episode': 1,\n",
       "   'from': 288.58,\n",
       "   'to': 292.67,\n",
       "   'similarity': 0.99,\n",
       "   'video': 'https://api.trace.moe/video/21034/%5BLeopard-Raws%5D%20Gochuumon%20wa%20Usagi%20Desu%20ka%202nd%20-%2001%20RAW%20(KBS%201280x720%20x264%20AAC).mp4?t=290.625&now=1739203200&token=NiylOPADCnX9tpgGsENRTzK5zG4',\n",
       "   'image': 'https://api.trace.moe/image/21034/%5BLeopard-Raws%5D%20Gochuumon%20wa%20Usagi%20Desu%20ka%202nd%20-%2001%20RAW%20(KBS%201280x720%20x264%20AAC).mp4.jpg?t=290.625&now=1739203200&token=UkytrIOGeCYKpgZRN1fMIQVUA'},\n",
       "  {'anilist': {'id': 21034,\n",
       "    'idMal': 29787,\n",
       "    'title': {'native': 'ご注文はうさぎですか？？',\n",
       "     'romaji': 'Gochuumon wa Usagi desu ka??',\n",
       "     'english': 'Is the Order a Rabbit?? Season 2'},\n",
       "    'synonyms': ['Gochiusa'],\n",
       "    'isAdult': False},\n",
       "   'filename': 'Gochuumon wa Usagi Desuka 2 - 01 (BS11 1280x720 x264 AAC).mp4',\n",
       "   'episode': 1,\n",
       "   'from': 289.08,\n",
       "   'to': 292.75,\n",
       "   'similarity': 0.9735424868893542,\n",
       "   'video': 'https://api.trace.moe/video/21034/Gochuumon%20wa%20Usagi%20Desuka%202%20-%2001%20(BS11%201280x720%20x264%20AAC).mp4?t=290.91499999999996&now=1739203200&token=t8NaQKoCBVBIdjXfwarc342Dw',\n",
       "   'image': 'https://api.trace.moe/image/21034/Gochuumon%20wa%20Usagi%20Desuka%202%20-%2001%20(BS11%201280x720%20x264%20AAC).mp4.jpg?t=290.91499999999996&now=1739203200&token=pnURhQr5cxlcjpzjXcoEDBFJt34'},\n",
       "  {'anilist': {'id': 21034,\n",
       "    'idMal': 29787,\n",
       "    'title': {'native': 'ご注文はうさぎですか？？',\n",
       "     'romaji': 'Gochuumon wa Usagi desu ka??',\n",
       "     'english': 'Is the Order a Rabbit?? Season 2'},\n",
       "    'synonyms': ['Gochiusa'],\n",
       "    'isAdult': False},\n",
       "   'filename': '[Ohys-Raws] Gochuumon wa Usagi Desuka 2 - 01 (AT-X 1280x720 x264 AAC).mp4',\n",
       "   'episode': 1,\n",
       "   'from': 288.75,\n",
       "   'to': 292.75,\n",
       "   'similarity': 0.9735424868893542,\n",
       "   'video': 'https://api.trace.moe/video/21034/%5BOhys-Raws%5D%20Gochuumon%20wa%20Usagi%20Desuka%202%20-%2001%20(AT-X%201280x720%20x264%20AAC).mp4?t=290.75&now=1739203200&token=Jkb809Yzzx2rTL36vMVXocsfyM',\n",
       "   'image': 'https://api.trace.moe/image/21034/%5BOhys-Raws%5D%20Gochuumon%20wa%20Usagi%20Desuka%202%20-%2001%20(AT-X%201280x720%20x264%20AAC).mp4.jpg?t=290.75&now=1739203200&token=kmRt8a8xGkEJffFfPyX7eB4h2vE'},\n",
       "  {'anilist': {'id': 21034,\n",
       "    'idMal': 29787,\n",
       "    'title': {'native': 'ご注文はうさぎですか？？',\n",
       "     'romaji': 'Gochuumon wa Usagi desu ka??',\n",
       "     'english': 'Is the Order a Rabbit?? Season 2'},\n",
       "    'synonyms': ['Gochiusa'],\n",
       "    'isAdult': False},\n",
       "   'filename': 'Gochuumon wa Usagi Desuka 2 - 01 (BD 1280x720 x264 AAC).mp4',\n",
       "   'episode': 1,\n",
       "   'from': 278.5,\n",
       "   'to': 282.67,\n",
       "   'similarity': 0.9735424868893542,\n",
       "   'video': 'https://api.trace.moe/video/21034/Gochuumon%20wa%20Usagi%20Desuka%202%20-%2001%20(BD%201280x720%20x264%20AAC).mp4?t=280.58500000000004&now=1739203200&token=rt7ijaFrW8EGEKNSDYrbGLrmU',\n",
       "   'image': 'https://api.trace.moe/image/21034/Gochuumon%20wa%20Usagi%20Desuka%202%20-%2001%20(BD%201280x720%20x264%20AAC).mp4.jpg?t=280.58500000000004&now=1739203200&token=sm48EVawtYWLQh8Cl2wttGH7dOQ'},\n",
       "  {'anilist': {'id': 10079,\n",
       "    'idMal': 10079,\n",
       "    'title': {'native': '星空へ架かる橋',\n",
       "     'romaji': 'Hoshizora e Kakaru Hashi',\n",
       "     'english': 'A Bridge to the Starry Skies'},\n",
       "    'synonyms': ['星架か',\n",
       "     'HoshiKaka',\n",
       "     'Hoshizora - Ponte para o Céu Estrelado',\n",
       "     'Un puente al cielo estrellado'],\n",
       "    'isAdult': False},\n",
       "   'filename': '[SumiSora][Hoshizora e Kakaru Hashi][BDrip][04][BIG5][720P].mp4',\n",
       "   'episode': 4,\n",
       "   'from': 1295.58,\n",
       "   'to': 1299.08,\n",
       "   'similarity': 0.8265179965813713,\n",
       "   'video': 'https://api.trace.moe/video/10079/%5BSumiSora%5D%5BHoshizora%20e%20Kakaru%20Hashi%5D%5BBDrip%5D%5B04%5D%5BBIG5%5D%5B720P%5D.mp4?t=1297.33&now=1739203200&token=lRCt730PXYSTpBk9J16POBfIqHo',\n",
       "   'image': 'https://api.trace.moe/image/10079/%5BSumiSora%5D%5BHoshizora%20e%20Kakaru%20Hashi%5D%5BBDrip%5D%5B04%5D%5BBIG5%5D%5B720P%5D.mp4.jpg?t=1297.33&now=1739203200&token=wPNK8ZGEwUwSCluX5HrXG0PDHdE'},\n",
       "  {'anilist': {'id': 1530,\n",
       "    'idMal': 1530,\n",
       "    'title': {'native': 'カノン (2006)',\n",
       "     'romaji': 'Kanon (2006)',\n",
       "     'english': 'Kanon (2006)'},\n",
       "    'synonyms': ['Kanon Remake', 'Kanon 2006'],\n",
       "    'isAdult': False},\n",
       "   'filename': '[ReinForce] Kanon - 04 (BDRip 1920x1080 x264 FLAC).mp4',\n",
       "   'episode': 4,\n",
       "   'from': 1175.08,\n",
       "   'to': 1179.58,\n",
       "   'similarity': 0.8211713758490933,\n",
       "   'video': 'https://api.trace.moe/video/1530/%5BReinForce%5D%20Kanon%20-%2004%20(BDRip%201920x1080%20x264%20FLAC).mp4?t=1177.33&now=1739203200&token=01RZ23WT6PdQbCiq1KLud3ults',\n",
       "   'image': 'https://api.trace.moe/image/1530/%5BReinForce%5D%20Kanon%20-%2004%20(BDRip%201920x1080%20x264%20FLAC).mp4.jpg?t=1177.33&now=1739203200&token=noet05xqyBoMEAyfD2aHehe4pCI'},\n",
       "  {'anilist': {'id': 1530,\n",
       "    'idMal': 1530,\n",
       "    'title': {'native': 'カノン (2006)',\n",
       "     'romaji': 'Kanon (2006)',\n",
       "     'english': 'Kanon (2006)'},\n",
       "    'synonyms': ['Kanon Remake', 'Kanon 2006'],\n",
       "    'isAdult': False},\n",
       "   'filename': '[ReinForce] Kanon - 04 (BDRip 1920x1080 x264 FLAC).mp4',\n",
       "   'episode': 4,\n",
       "   'from': 1184.67,\n",
       "   'to': 1190.08,\n",
       "   'similarity': 0.8211713758490933,\n",
       "   'video': 'https://api.trace.moe/video/1530/%5BReinForce%5D%20Kanon%20-%2004%20(BDRip%201920x1080%20x264%20FLAC).mp4?t=1187.375&now=1739203200&token=D8PjRgkHqaxIrBwlhylhHEKfWKY',\n",
       "   'image': 'https://api.trace.moe/image/1530/%5BReinForce%5D%20Kanon%20-%2004%20(BDRip%201920x1080%20x264%20FLAC).mp4.jpg?t=1187.375&now=1739203200&token=Q08TKHFoAN2jg9Rywo6UaKR7am4'},\n",
       "  {'anilist': {'id': 10079,\n",
       "    'idMal': 10079,\n",
       "    'title': {'native': '星空へ架かる橋',\n",
       "     'romaji': 'Hoshizora e Kakaru Hashi',\n",
       "     'english': 'A Bridge to the Starry Skies'},\n",
       "    'synonyms': ['星架か',\n",
       "     'HoshiKaka',\n",
       "     'Hoshizora - Ponte para o Céu Estrelado',\n",
       "     'Un puente al cielo estrellado'],\n",
       "    'isAdult': False},\n",
       "   'filename': '[SumiSora][Hoshizora e Kakaru Hashi][BDrip][04][BIG5][720P].mp4',\n",
       "   'episode': 4,\n",
       "   'from': 1273.33,\n",
       "   'to': 1277,\n",
       "   'similarity': 0.8162100669972705,\n",
       "   'video': 'https://api.trace.moe/video/10079/%5BSumiSora%5D%5BHoshizora%20e%20Kakaru%20Hashi%5D%5BBDrip%5D%5B04%5D%5BBIG5%5D%5B720P%5D.mp4?t=1275.165&now=1739203200&token=Z4JyX6Y1Nb8cP72wwCMpzzHn0nQ',\n",
       "   'image': 'https://api.trace.moe/image/10079/%5BSumiSora%5D%5BHoshizora%20e%20Kakaru%20Hashi%5D%5BBDrip%5D%5B04%5D%5BBIG5%5D%5B720P%5D.mp4.jpg?t=1275.165&now=1739203200&token=oBECxia3YmQTqhvRHBWifnp7R3c'},\n",
       "  {'anilist': {'id': 157,\n",
       "    'idMal': 157,\n",
       "    'title': {'native': '魔法先生 ネギま！',\n",
       "     'romaji': 'Mahou Sensei Negima!',\n",
       "     'english': 'Negima!'},\n",
       "    'synonyms': ['Magister Negi Magi'],\n",
       "    'isAdult': False},\n",
       "   'filename': 'Mahou Sensei Negima! - 23 (BD 948x720 x264 AAC).mp4',\n",
       "   'episode': 23,\n",
       "   'from': 134.25,\n",
       "   'to': 143.58,\n",
       "   'similarity': 0.808183930020312,\n",
       "   'video': 'https://api.trace.moe/video/157/Mahou%20Sensei%20Negima!%20-%2023%20(BD%20948x720%20x264%20AAC).mp4?t=138.91500000000002&now=1739203200&token=Dse2bGf2CUO5PMIXNX96EVRcZvU',\n",
       "   'image': 'https://api.trace.moe/image/157/Mahou%20Sensei%20Negima!%20-%2023%20(BD%20948x720%20x264%20AAC).mp4.jpg?t=138.91500000000002&now=1739203200&token=Dyiica2CaaqJ3pSRvMk9JftZFc'},\n",
       "  {'anilist': {'id': 132052,\n",
       "    'idMal': 48675,\n",
       "    'title': {'native': 'カッコウの許嫁',\n",
       "     'romaji': 'Kakkou no Iinazuke',\n",
       "     'english': 'A Couple of Cuckoos'},\n",
       "    'synonyms': ['รักอลวนคนสลับบ้าน',\n",
       "     'Обручённые кукушками',\n",
       "     'Kakkou no Iinazuke'],\n",
       "    'isAdult': False},\n",
       "   'filename': '[Ohys-Raws] Kakkou no Iinazuke - 05 (CS3 1280x720 x264 AAC).mp4',\n",
       "   'episode': 5,\n",
       "   'from': 240.67,\n",
       "   'to': 240.83,\n",
       "   'similarity': 0.8054679228417241,\n",
       "   'video': 'https://api.trace.moe/video/132052/%5BOhys-Raws%5D%20Kakkou%20no%20Iinazuke%20-%2005%20(CS3%201280x720%20x264%20AAC).mp4?t=240.75&now=1739203200&token=3cBg8OAIO6GgAWKzQpbQEQM97Do',\n",
       "   'image': 'https://api.trace.moe/image/132052/%5BOhys-Raws%5D%20Kakkou%20no%20Iinazuke%20-%2005%20(CS3%201280x720%20x264%20AAC).mp4.jpg?t=240.75&now=1739203200&token=RF5v3uKl2fSWu1KYSxsEMbEC8k'}]}"
      ]
     },
     "execution_count": 16,
     "metadata": {},
     "output_type": "execute_result"
    }
   ],
   "source": [
    "import requests\n",
    "import urllib.parse\n",
    "requests.get(\"https://api.trace.moe/search?anilistInfo&url={}\"\n",
    "  .format(urllib.parse.quote_plus(\"https://images.plurk.com/32B15UXxymfSMwKGTObY5e.jpg\"))\n",
    ").json()"
   ]
  },
  {
   "cell_type": "code",
   "execution_count": 7,
   "metadata": {},
   "outputs": [
    {
     "ename": "ClientError",
     "evalue": "400 INVALID_ARGUMENT. {'error': {'code': 400, 'message': 'Imagen API is only accessible to billed users at this time.', 'status': 'INVALID_ARGUMENT'}}",
     "output_type": "error",
     "traceback": [
      "\u001b[1;31m---------------------------------------------------------------------------\u001b[0m",
      "\u001b[1;31mClientError\u001b[0m                               Traceback (most recent call last)",
      "Cell \u001b[1;32mIn[7], line 8\u001b[0m\n\u001b[0;32m      4\u001b[0m \u001b[38;5;28;01mfrom\u001b[39;00m\u001b[38;5;250m \u001b[39m\u001b[38;5;21;01mio\u001b[39;00m\u001b[38;5;250m \u001b[39m\u001b[38;5;28;01mimport\u001b[39;00m BytesIO\n\u001b[0;32m      6\u001b[0m client \u001b[38;5;241m=\u001b[39m genai\u001b[38;5;241m.\u001b[39mClient(api_key\u001b[38;5;241m=\u001b[39mos\u001b[38;5;241m.\u001b[39menviron\u001b[38;5;241m.\u001b[39mget(\u001b[38;5;124m\"\u001b[39m\u001b[38;5;124mGEMINI_API_KEY\u001b[39m\u001b[38;5;124m\"\u001b[39m))\n\u001b[1;32m----> 8\u001b[0m response \u001b[38;5;241m=\u001b[39m \u001b[43mclient\u001b[49m\u001b[38;5;241;43m.\u001b[39;49m\u001b[43mmodels\u001b[49m\u001b[38;5;241;43m.\u001b[39;49m\u001b[43mgenerate_images\u001b[49m\u001b[43m(\u001b[49m\n\u001b[0;32m      9\u001b[0m \u001b[43m    \u001b[49m\u001b[43mmodel\u001b[49m\u001b[38;5;241;43m=\u001b[39;49m\u001b[38;5;124;43m'\u001b[39;49m\u001b[38;5;124;43mimagen-3.0-generate-002\u001b[39;49m\u001b[38;5;124;43m'\u001b[39;49m\u001b[43m,\u001b[49m\n\u001b[0;32m     10\u001b[0m \u001b[43m    \u001b[49m\u001b[43mprompt\u001b[49m\u001b[38;5;241;43m=\u001b[39;49m\u001b[38;5;124;43m'\u001b[39;49m\u001b[38;5;124;43mFuzzy bunnies in my kitchen\u001b[39;49m\u001b[38;5;124;43m'\u001b[39;49m\u001b[43m,\u001b[49m\n\u001b[0;32m     11\u001b[0m \u001b[43m    \u001b[49m\u001b[43mconfig\u001b[49m\u001b[38;5;241;43m=\u001b[39;49m\u001b[43mtypes\u001b[49m\u001b[38;5;241;43m.\u001b[39;49m\u001b[43mGenerateImagesConfig\u001b[49m\u001b[43m(\u001b[49m\n\u001b[0;32m     12\u001b[0m \u001b[43m        \u001b[49m\u001b[43mnumber_of_images\u001b[49m\u001b[38;5;241;43m=\u001b[39;49m\u001b[43m \u001b[49m\u001b[38;5;241;43m4\u001b[39;49m\u001b[43m,\u001b[49m\n\u001b[0;32m     13\u001b[0m \u001b[43m    \u001b[49m\u001b[43m)\u001b[49m\n\u001b[0;32m     14\u001b[0m \u001b[43m)\u001b[49m\n\u001b[0;32m     15\u001b[0m \u001b[38;5;28;01mfor\u001b[39;00m generated_image \u001b[38;5;129;01min\u001b[39;00m response\u001b[38;5;241m.\u001b[39mgenerated_images:\n\u001b[0;32m     16\u001b[0m     image \u001b[38;5;241m=\u001b[39m Image\u001b[38;5;241m.\u001b[39mopen(BytesIO(generated_image\u001b[38;5;241m.\u001b[39mimage\u001b[38;5;241m.\u001b[39mimage_bytes))\n",
      "File \u001b[1;32mc:\\Users\\jefta\\Downloads\\Projects\\line-bot\\.venv\\Lib\\site-packages\\google\\genai\\models.py:4060\u001b[0m, in \u001b[0;36mModels.generate_images\u001b[1;34m(self, model, prompt, config)\u001b[0m\n\u001b[0;32m   4057\u001b[0m request_dict \u001b[38;5;241m=\u001b[39m _common\u001b[38;5;241m.\u001b[39mconvert_to_dict(request_dict)\n\u001b[0;32m   4058\u001b[0m request_dict \u001b[38;5;241m=\u001b[39m _common\u001b[38;5;241m.\u001b[39mencode_unserializable_types(request_dict)\n\u001b[1;32m-> 4060\u001b[0m response_dict \u001b[38;5;241m=\u001b[39m \u001b[38;5;28;43mself\u001b[39;49m\u001b[38;5;241;43m.\u001b[39;49m\u001b[43m_api_client\u001b[49m\u001b[38;5;241;43m.\u001b[39;49m\u001b[43mrequest\u001b[49m\u001b[43m(\u001b[49m\n\u001b[0;32m   4061\u001b[0m \u001b[43m    \u001b[49m\u001b[38;5;124;43m'\u001b[39;49m\u001b[38;5;124;43mpost\u001b[39;49m\u001b[38;5;124;43m'\u001b[39;49m\u001b[43m,\u001b[49m\u001b[43m \u001b[49m\u001b[43mpath\u001b[49m\u001b[43m,\u001b[49m\u001b[43m \u001b[49m\u001b[43mrequest_dict\u001b[49m\u001b[43m,\u001b[49m\u001b[43m \u001b[49m\u001b[43mhttp_options\u001b[49m\n\u001b[0;32m   4062\u001b[0m \u001b[43m\u001b[49m\u001b[43m)\u001b[49m\n\u001b[0;32m   4064\u001b[0m \u001b[38;5;28;01mif\u001b[39;00m \u001b[38;5;28mself\u001b[39m\u001b[38;5;241m.\u001b[39m_api_client\u001b[38;5;241m.\u001b[39mvertexai:\n\u001b[0;32m   4065\u001b[0m   response_dict \u001b[38;5;241m=\u001b[39m _GenerateImagesResponse_from_vertex(\n\u001b[0;32m   4066\u001b[0m       \u001b[38;5;28mself\u001b[39m\u001b[38;5;241m.\u001b[39m_api_client, response_dict\n\u001b[0;32m   4067\u001b[0m   )\n",
      "File \u001b[1;32mc:\\Users\\jefta\\Downloads\\Projects\\line-bot\\.venv\\Lib\\site-packages\\google\\genai\\_api_client.py:449\u001b[0m, in \u001b[0;36mApiClient.request\u001b[1;34m(self, http_method, path, request_dict, http_options)\u001b[0m\n\u001b[0;32m    439\u001b[0m \u001b[38;5;28;01mdef\u001b[39;00m\u001b[38;5;250m \u001b[39m\u001b[38;5;21mrequest\u001b[39m(\n\u001b[0;32m    440\u001b[0m     \u001b[38;5;28mself\u001b[39m,\n\u001b[0;32m    441\u001b[0m     http_method: \u001b[38;5;28mstr\u001b[39m,\n\u001b[1;32m   (...)\u001b[0m\n\u001b[0;32m    444\u001b[0m     http_options: HttpOptionsOrDict \u001b[38;5;241m=\u001b[39m \u001b[38;5;28;01mNone\u001b[39;00m,\n\u001b[0;32m    445\u001b[0m ):\n\u001b[0;32m    446\u001b[0m   http_request \u001b[38;5;241m=\u001b[39m \u001b[38;5;28mself\u001b[39m\u001b[38;5;241m.\u001b[39m_build_request(\n\u001b[0;32m    447\u001b[0m       http_method, path, request_dict, http_options\n\u001b[0;32m    448\u001b[0m   )\n\u001b[1;32m--> 449\u001b[0m   response \u001b[38;5;241m=\u001b[39m \u001b[38;5;28;43mself\u001b[39;49m\u001b[38;5;241;43m.\u001b[39;49m\u001b[43m_request\u001b[49m\u001b[43m(\u001b[49m\u001b[43mhttp_request\u001b[49m\u001b[43m,\u001b[49m\u001b[43m \u001b[49m\u001b[43mstream\u001b[49m\u001b[38;5;241;43m=\u001b[39;49m\u001b[38;5;28;43;01mFalse\u001b[39;49;00m\u001b[43m)\u001b[49m\n\u001b[0;32m    450\u001b[0m   json_response \u001b[38;5;241m=\u001b[39m response\u001b[38;5;241m.\u001b[39mjson\n\u001b[0;32m    451\u001b[0m   \u001b[38;5;28;01mif\u001b[39;00m \u001b[38;5;129;01mnot\u001b[39;00m json_response:\n",
      "File \u001b[1;32mc:\\Users\\jefta\\Downloads\\Projects\\line-bot\\.venv\\Lib\\site-packages\\google\\genai\\_api_client.py:384\u001b[0m, in \u001b[0;36mApiClient._request\u001b[1;34m(self, http_request, stream)\u001b[0m\n\u001b[0;32m    380\u001b[0m   \u001b[38;5;28;01mreturn\u001b[39;00m HttpResponse(\n\u001b[0;32m    381\u001b[0m       response\u001b[38;5;241m.\u001b[39mheaders, response \u001b[38;5;28;01mif\u001b[39;00m stream \u001b[38;5;28;01melse\u001b[39;00m [response\u001b[38;5;241m.\u001b[39mtext]\n\u001b[0;32m    382\u001b[0m   )\n\u001b[0;32m    383\u001b[0m \u001b[38;5;28;01melse\u001b[39;00m:\n\u001b[1;32m--> 384\u001b[0m   \u001b[38;5;28;01mreturn\u001b[39;00m \u001b[38;5;28;43mself\u001b[39;49m\u001b[38;5;241;43m.\u001b[39;49m\u001b[43m_request_unauthorized\u001b[49m\u001b[43m(\u001b[49m\u001b[43mhttp_request\u001b[49m\u001b[43m,\u001b[49m\u001b[43m \u001b[49m\u001b[43mstream\u001b[49m\u001b[43m)\u001b[49m\n",
      "File \u001b[1;32mc:\\Users\\jefta\\Downloads\\Projects\\line-bot\\.venv\\Lib\\site-packages\\google\\genai\\_api_client.py:407\u001b[0m, in \u001b[0;36mApiClient._request_unauthorized\u001b[1;34m(self, http_request, stream)\u001b[0m\n\u001b[0;32m    398\u001b[0m http_session \u001b[38;5;241m=\u001b[39m requests\u001b[38;5;241m.\u001b[39mSession()\n\u001b[0;32m    399\u001b[0m response \u001b[38;5;241m=\u001b[39m http_session\u001b[38;5;241m.\u001b[39mrequest(\n\u001b[0;32m    400\u001b[0m     method\u001b[38;5;241m=\u001b[39mhttp_request\u001b[38;5;241m.\u001b[39mmethod,\n\u001b[0;32m    401\u001b[0m     url\u001b[38;5;241m=\u001b[39mhttp_request\u001b[38;5;241m.\u001b[39murl,\n\u001b[1;32m   (...)\u001b[0m\n\u001b[0;32m    405\u001b[0m     stream\u001b[38;5;241m=\u001b[39mstream,\n\u001b[0;32m    406\u001b[0m )\n\u001b[1;32m--> 407\u001b[0m \u001b[43merrors\u001b[49m\u001b[38;5;241;43m.\u001b[39;49m\u001b[43mAPIError\u001b[49m\u001b[38;5;241;43m.\u001b[39;49m\u001b[43mraise_for_response\u001b[49m\u001b[43m(\u001b[49m\u001b[43mresponse\u001b[49m\u001b[43m)\u001b[49m\n\u001b[0;32m    408\u001b[0m \u001b[38;5;28;01mreturn\u001b[39;00m HttpResponse(\n\u001b[0;32m    409\u001b[0m     response\u001b[38;5;241m.\u001b[39mheaders, response \u001b[38;5;28;01mif\u001b[39;00m stream \u001b[38;5;28;01melse\u001b[39;00m [response\u001b[38;5;241m.\u001b[39mtext]\n\u001b[0;32m    410\u001b[0m )\n",
      "File \u001b[1;32mc:\\Users\\jefta\\Downloads\\Projects\\line-bot\\.venv\\Lib\\site-packages\\google\\genai\\errors.py:100\u001b[0m, in \u001b[0;36mAPIError.raise_for_response\u001b[1;34m(cls, response)\u001b[0m\n\u001b[0;32m     98\u001b[0m status_code \u001b[38;5;241m=\u001b[39m response\u001b[38;5;241m.\u001b[39mstatus_code\n\u001b[0;32m     99\u001b[0m \u001b[38;5;28;01mif\u001b[39;00m \u001b[38;5;241m400\u001b[39m \u001b[38;5;241m<\u001b[39m\u001b[38;5;241m=\u001b[39m status_code \u001b[38;5;241m<\u001b[39m \u001b[38;5;241m500\u001b[39m:\n\u001b[1;32m--> 100\u001b[0m   \u001b[38;5;28;01mraise\u001b[39;00m ClientError(status_code, response)\n\u001b[0;32m    101\u001b[0m \u001b[38;5;28;01melif\u001b[39;00m \u001b[38;5;241m500\u001b[39m \u001b[38;5;241m<\u001b[39m\u001b[38;5;241m=\u001b[39m status_code \u001b[38;5;241m<\u001b[39m \u001b[38;5;241m600\u001b[39m:\n\u001b[0;32m    102\u001b[0m   \u001b[38;5;28;01mraise\u001b[39;00m ServerError(status_code, response)\n",
      "\u001b[1;31mClientError\u001b[0m: 400 INVALID_ARGUMENT. {'error': {'code': 400, 'message': 'Imagen API is only accessible to billed users at this time.', 'status': 'INVALID_ARGUMENT'}}"
     ]
    }
   ],
   "source": [
    "from google import genai\n",
    "from google.genai import types\n",
    "from PIL import Image\n",
    "from io import BytesIO\n",
    "\n",
    "client = genai.Client(api_key=os.environ.get(\"GEMINI_API_KEY\"))\n",
    "\n",
    "response = client.models.generate_images(\n",
    "    model='imagen-3.0-generate-002',\n",
    "    prompt='Fuzzy bunnies in my kitchen',\n",
    "    config=types.GenerateImagesConfig(\n",
    "        number_of_images= 4,\n",
    "    )\n",
    ")\n",
    "for generated_image in response.generated_images:\n",
    "    image = Image.open(BytesIO(generated_image.image.image_bytes))\n",
    "    image.show()"
   ]
  },
  {
   "cell_type": "code",
   "execution_count": 44,
   "metadata": {},
   "outputs": [],
   "source": [
    "import requests\n",
    "import configuration\n",
    "\n",
    "id = \"U6fd3d120795beb8ac62c74f957324795\"\n",
    "LINE_API_BASE_URL = \"https://api.line.me/v2/bot\"\n",
    "headers = {\"Authorization\": f\"Bearer {configuration.LINE_CHANNEL_ACCESS_TOKEN}\", \"Content-Type\": \"application/json\"}\n",
    "\n",
    "data1 = {\n",
    "    \"messages\": [\n",
    "        {\n",
    "            \"type\": \"image\",\n",
    "            \"originalContentUrl\": \"https://i0.wp.com/borobudurnews.com/wp-content/uploads/2021/09/Kocing.jpg\",\n",
    "            \"previewImageUrl\": \"https://i0.wp.com/borobudurnews.com/wp-content/uploads/2021/09/Kocing.jpg\"\n",
    "        }\n",
    "    ]\n",
    "}\n",
    "\n",
    "data2 = {\n",
    "    \"to\": id,\n",
    "    \"messages\": [\n",
    "        {\n",
    "            \"type\": \"image\",\n",
    "            \"originalContentUrl\": \"https://pbs.twimg.com/media/Ga0WlLMbQAA3PIR.jpg\",\n",
    "            \"previewImageUrl\": \"https://pbs.twimg.com/media/Ga0WlLMbQAA3PIR.jpg\"\n",
    "        }\n",
    "    ]\n",
    "}\n",
    "\n",
    "destination_url = f\"{LINE_API_BASE_URL}/message/validate/push\"\n",
    "response = requests.post(destination_url, headers=headers, timeout=10, json=data1)\n",
    "if response.status_code == 200:\n",
    "    destination_url = f\"{LINE_API_BASE_URL}/message/push\"\n",
    "    response = requests.post(destination_url, headers=headers, timeout=10, json=data2)"
   ]
  },
  {
   "cell_type": "code",
   "execution_count": 66,
   "metadata": {},
   "outputs": [
    {
     "name": "stdout",
     "output_type": "stream",
     "text": [
      "{'message_id': '123', 'message': 'test'}\n",
      "{'message_id': '124', 'message': 'test2'}\n"
     ]
    }
   ],
   "source": [
    "from collections import deque\n",
    "a = deque(maxlen=10)\n",
    "a.append({\"message_id\": \"123\", \"message\": \"test\"})\n",
    "a.append({\"message_id\": \"124\", \"message\": \"test2\"})\n",
    "for t in a:\n",
    "    print(t)"
   ]
  },
  {
   "cell_type": "code",
   "execution_count": 70,
   "metadata": {},
   "outputs": [
    {
     "data": {
      "text/plain": [
       "b'{\"name\":\"KyunUwU\",\"description\":\"defaultDescription\",\"errors\":[\"1/11/2025 - test does not exist\",\"1/11/2025 - test does not exist\",\"1/11/2025 - test does not exist\",\"1/11/2025 - test does not exist\",\"1/11/2025 - test does not exist\",\"1/11/2025 - test does not exist\",\"1/11/2025 - test does not exist\",\"1/11/2025 - test does not exist\",\"1/11/2025 - test does not exist\",\"1/11/2025 - test does not exist\",\"1/11/2025 - test does not exist\",\"1/11/2025 - chat_histories does not exist\",\"1/11/2025 - model_responses does not exist\",\"1/11/2025 - chat_histories does not exist\",\"1/11/2025 - model_responses does not exist\",\"1/11/2025 - chat_histories does not exist\",\"1/11/2025 - model_responses does not exist\",\"1/11/2025 - chat_histories does not exist\",\"1/11/2025 - model_responses does not exist\",\"1/11/2025 - chat_histories does not exist\",\"1/11/2025 - hmm does not exist\",\"1/11/2025 - hmm does not exist\",\"1/11/2025 - hmm does not exist\",\"1/11/2025 - hmm does not exist\",\"1/11/2025 - hmm does not exist\",\"1/11/2025 - hmm does not exist\",\"1/11/2025 - hmm does not exist\",\"1/11/2025 - hmm does not exist\",\"1/11/2025 - hmm does not exist\",\"1/11/2025 - hmm does not exist\",\"1/11/2025 - hmm does not exist\",\"1/11/2025 - hmm does not exist\",\"1/11/2025 - chat_histories does not exist\",\"1/11/2025 - model_responses does not exist\",\"1/27/2025 - media_metadata does not exist\",\"2/9/2025 - chat_histories does not exist\",\"2/9/2025 - chat_histories does not exist\",\"2/9/2025 - chat_histories does not exist\",\"2/9/2025 - chat_histories does not exist\",\"2/9/2025 - chat_histories does not exist\"],\"notifications\":true,\"percentFull\":0,\"baskets\":[]}'"
      ]
     },
     "execution_count": 70,
     "metadata": {},
     "output_type": "execute_result"
    }
   ],
   "source": [
    "from configuration import PANTRY_ID, MAX_MESSAGE\n",
    "\n",
    "BASE_URL = f\"https://getpantry.cloud/apiv1/pantry/{PANTRY_ID}\"\n",
    "headers = {\"Content-Type\": \"application/json\"}\n",
    "\n",
    "PANTRY_CHAT_HISTORY = \"chat_histories\"\n",
    "PANTRY_MODEL_RESPONSES = \"model_responses\"\n",
    "PANTRY_MEDIA_METADATA = \"media_metadata\"\n",
    "\n",
    "def delete_basket(basket_name: str):\n",
    "    \"\"\"Delete data from Pantry for the given basket name.\"\"\"\n",
    "    response = requests.delete(url=f\"{BASE_URL}/basket/{basket_name}\", headers=headers, timeout=10)\n",
    "    if response.status_code == 200:\n",
    "        print(f\"The basket name '{basket_name}' has successfully been deleted\")\n",
    "    elif response.status_code != 200:\n",
    "        raise ValueError(f\"The basket name '{basket_name}' has not been created so there is no data to be stored\")\n",
    "    \n",
    "response = requests.get(url=BASE_URL, headers=headers)\n",
    "response.content\n",
    "    \n",
    "# delete_basket(PANTRY_CHAT_HISTORY)\n",
    "# delete_basket(PANTRY_MODEL_RESPONSES)\n",
    "# delete_basket(PANTRY_MEDIA_METADATA)"
   ]
  },
  {
   "cell_type": "code",
   "execution_count": 73,
   "metadata": {},
   "outputs": [
    {
     "data": {
      "text/plain": [
       "{'name': 'KyunUwU',\n",
       " 'description': 'defaultDescription',\n",
       " 'errors': ['1/11/2025 - test does not exist',\n",
       "  '1/11/2025 - test does not exist',\n",
       "  '1/11/2025 - test does not exist',\n",
       "  '1/11/2025 - test does not exist',\n",
       "  '1/11/2025 - test does not exist',\n",
       "  '1/11/2025 - test does not exist',\n",
       "  '1/11/2025 - test does not exist',\n",
       "  '1/11/2025 - test does not exist',\n",
       "  '1/11/2025 - test does not exist',\n",
       "  '1/11/2025 - test does not exist',\n",
       "  '1/11/2025 - test does not exist',\n",
       "  '1/11/2025 - chat_histories does not exist',\n",
       "  '1/11/2025 - model_responses does not exist',\n",
       "  '1/11/2025 - chat_histories does not exist',\n",
       "  '1/11/2025 - model_responses does not exist',\n",
       "  '1/11/2025 - chat_histories does not exist',\n",
       "  '1/11/2025 - model_responses does not exist',\n",
       "  '1/11/2025 - chat_histories does not exist',\n",
       "  '1/11/2025 - model_responses does not exist',\n",
       "  '1/11/2025 - chat_histories does not exist',\n",
       "  '1/11/2025 - hmm does not exist',\n",
       "  '1/11/2025 - hmm does not exist',\n",
       "  '1/11/2025 - hmm does not exist',\n",
       "  '1/11/2025 - hmm does not exist',\n",
       "  '1/11/2025 - hmm does not exist',\n",
       "  '1/11/2025 - hmm does not exist',\n",
       "  '1/11/2025 - hmm does not exist',\n",
       "  '1/11/2025 - hmm does not exist',\n",
       "  '1/11/2025 - hmm does not exist',\n",
       "  '1/11/2025 - hmm does not exist',\n",
       "  '1/11/2025 - hmm does not exist',\n",
       "  '1/11/2025 - hmm does not exist',\n",
       "  '1/11/2025 - chat_histories does not exist',\n",
       "  '1/11/2025 - model_responses does not exist',\n",
       "  '1/27/2025 - media_metadata does not exist',\n",
       "  '2/9/2025 - chat_histories does not exist',\n",
       "  '2/9/2025 - chat_histories does not exist',\n",
       "  '2/9/2025 - chat_histories does not exist',\n",
       "  '2/9/2025 - chat_histories does not exist',\n",
       "  '2/9/2025 - chat_histories does not exist'],\n",
       " 'notifications': True,\n",
       " 'percentFull': 0,\n",
       " 'baskets': []}"
      ]
     },
     "execution_count": 73,
     "metadata": {},
     "output_type": "execute_result"
    }
   ],
   "source": [
    "import json\n",
    "data = json.loads(response.content.decode(\"utf-8\"))\n",
    "data"
   ]
  },
  {
   "cell_type": "code",
   "execution_count": 49,
   "metadata": {},
   "outputs": [
    {
     "data": {
      "text/plain": [
       "dict_keys(['U6fd3d120795beb8ac62c74f957324795', 'C03693518db2655c959b68c9b86ec9468', 'Cc841630c9a8d8b68f52bf89d81fbb0c3'])"
      ]
     },
     "execution_count": 49,
     "metadata": {},
     "output_type": "execute_result"
    }
   ],
   "source": [
    "from utils import memory\n",
    "chat_histories = memory.load_from_pantry(basket_name=memory.PANTRY_CHAT_HISTORY)\n",
    "chat_histories.keys()"
   ]
  },
  {
   "cell_type": "code",
   "execution_count": 42,
   "metadata": {},
   "outputs": [
    {
     "data": {
      "text/plain": [
       "200"
      ]
     },
     "execution_count": 42,
     "metadata": {},
     "output_type": "execute_result"
    }
   ],
   "source": [
    "response.status_code"
   ]
  },
  {
   "cell_type": "code",
   "execution_count": 35,
   "metadata": {},
   "outputs": [
    {
     "name": "stdout",
     "output_type": "stream",
     "text": [
      "candidates=[Candidate(content=Content(parts=[Part(video_metadata=None, thought=None, code_execution_result=None, executable_code=None, file_data=None, function_call=None, function_response=None, inline_data=None, text=\"Here's a brief explanation of what happened with 3 kg LPG gas in Indonesia:\\n\\n*   **Initial Policy Change:** In early February 2025, the Indonesian government implemented a policy to restrict the sale of 3 kg LPG canisters to only official distributors, aiming to better target subsidies to low-income households and small businesses. [3, 4]\\n*   **Resulting Issues:** This policy led to shortages, long queues, and public frustration as people struggled to obtain the cooking gas. [3]\\n*   **Policy Reversal:** Due to the backlash and difficulties faced by the public, President Prabowo Subianto intervened and instructed the Energy and Mineral Resources Minister to allow retailers to resume selling 3 kg LPG canisters. [2, 3, 5]\\n*   **Current Status:** Sales of 3 kg LPG have reportedly returned to normal following the President's order. [1, 5] The government is also planning to gradually register retailers as official sub-distributors. [3]\")], role='model'), citation_metadata=None, finish_message=None, token_count=None, avg_logprobs=None, finish_reason='STOP', grounding_metadata=GroundingMetadata(grounding_chunks=[GroundingChunk(retrieved_context=None, web=GroundingChunkWeb(title='asianews.network', uri='https://vertexaisearch.cloud.google.com/grounding-api-redirect/AUBnsYtpfKdER97UtktV7yGcF7M_fJhvtBc23x_AkvQVNmfrPBfUtH3whsrRmXJ5o9ZcZl-NO23KladDmvXiB6Il7wGWziux7e_oUd3mSGesyXEdPMKXytmtTu0Ok7u2rq-N3E8rYIvZrC3oWwIH2wmpJxW-zXbq90Lu-n6rIT6V_LS1ZMTWGG1T9jnLaWyKnEgTJseP2uc364WelVPr')), GroundingChunk(retrieved_context=None, web=GroundingChunkWeb(title='cnnindonesia.com', uri='https://vertexaisearch.cloud.google.com/grounding-api-redirect/AUBnsYvfJau7amM8FsQU87QlOz5zRol-BQkQU2ZJdoqRRaY49WJz2yF185YdIZTgTv5uSQhnuge9yzhAcyJC1N_oTnhhTdG82R0Ix6ao87WwM_PuiWijvjlUbvOch-E3XBjWsp5MUKVXRcD5TOl0_dY8qx7VkPpv-4zZMLrhpdQcMM6ies6yPiOOTJg3jM5pLAw7BDTxMWFU6omTp-zAPXPWvTp20u5trfc_ATkzug==')), GroundingChunk(retrieved_context=None, web=GroundingChunkWeb(title='antaranews.com', uri='https://vertexaisearch.cloud.google.com/grounding-api-redirect/AUBnsYuxe6asxUrfTORsRC7Rxp6z91Sdjn5is79fTm1etANMrzo3zlwXZ-4Ad5qgHWa_PphNoPxTmPKT1Uh5mdwPLLU5TzIvQXfSYOGCZTpBXs7xzekuWQud6ezVDyUD3kklraDjRifLxgGA7f1wBig3mICzVTov9sLUk-4xnnWQBS39gd3IyIrt3-BaCrxR-sbtRirFwHUygoVvTC1z9NeA5pbCaByDAw=='))], grounding_supports=[GroundingSupport(confidence_scores=[0.7928189], grounding_chunk_indices=[0], segment=Segment(end_index=333, part_index=None, start_index=77, text='*   **Initial Policy Change:** In early February 2025, the Indonesian government implemented a policy to restrict the sale of 3 kg LPG canisters to only official distributors, aiming to better target subsidies to low-income households and small businesses.')), GroundingSupport(confidence_scores=[0.8904216], grounding_chunk_indices=[0], segment=Segment(end_index=479, part_index=None, start_index=341, text='*   **Resulting Issues:** This policy led to shortages, long queues, and public frustration as people struggled to obtain the cooking gas.')), GroundingSupport(confidence_scores=[0.7975403, 0.6556416], grounding_chunk_indices=[0, 1], segment=Segment(end_index=728, part_index=None, start_index=484, text='*   **Policy Reversal:** Due to the backlash and difficulties faced by the public, President Prabowo Subianto intervened and instructed the Energy and Mineral Resources Minister to allow retailers to resume selling 3 kg LPG canisters. [2, 3, 5]')), GroundingSupport(confidence_scores=[0.96722835, 0.9313347], grounding_chunk_indices=[2, 1], segment=Segment(end_index=838, part_index=None, start_index=729, text=\"*   **Current Status:** Sales of 3 kg LPG have reportedly returned to normal following the President's order.\")), GroundingSupport(confidence_scores=[0.884043], grounding_chunk_indices=[0], segment=Segment(end_index=943, part_index=None, start_index=839, text='[1, 5] The government is also planning to gradually register retailers as official sub-distributors. [3]'))], retrieval_metadata=RetrievalMetadata(google_search_dynamic_retrieval_score=None), retrieval_queries=None, search_entry_point=SearchEntryPoint(rendered_content='<style>\\n.container {\\n  align-items: center;\\n  border-radius: 8px;\\n  display: flex;\\n  font-family: Google Sans, Roboto, sans-serif;\\n  font-size: 14px;\\n  line-height: 20px;\\n  padding: 8px 12px;\\n}\\n.chip {\\n  display: inline-block;\\n  border: solid 1px;\\n  border-radius: 16px;\\n  min-width: 14px;\\n  padding: 5px 16px;\\n  text-align: center;\\n  user-select: none;\\n  margin: 0 8px;\\n  -webkit-tap-highlight-color: transparent;\\n}\\n.carousel {\\n  overflow: auto;\\n  scrollbar-width: none;\\n  white-space: nowrap;\\n  margin-right: -12px;\\n}\\n.headline {\\n  display: flex;\\n  margin-right: 4px;\\n}\\n.gradient-container {\\n  position: relative;\\n}\\n.gradient {\\n  position: absolute;\\n  transform: translate(3px, -9px);\\n  height: 36px;\\n  width: 9px;\\n}\\n@media (prefers-color-scheme: light) {\\n  .container {\\n    background-color: #fafafa;\\n    box-shadow: 0 0 0 1px #0000000f;\\n  }\\n  .headline-label {\\n    color: #1f1f1f;\\n  }\\n  .chip {\\n    background-color: #ffffff;\\n    border-color: #d2d2d2;\\n    color: #5e5e5e;\\n    text-decoration: none;\\n  }\\n  .chip:hover {\\n    background-color: #f2f2f2;\\n  }\\n  .chip:focus {\\n    background-color: #f2f2f2;\\n  }\\n  .chip:active {\\n    background-color: #d8d8d8;\\n    border-color: #b6b6b6;\\n  }\\n  .logo-dark {\\n    display: none;\\n  }\\n  .gradient {\\n    background: linear-gradient(90deg, #fafafa 15%, #fafafa00 100%);\\n  }\\n}\\n@media (prefers-color-scheme: dark) {\\n  .container {\\n    background-color: #1f1f1f;\\n    box-shadow: 0 0 0 1px #ffffff26;\\n  }\\n  .headline-label {\\n    color: #fff;\\n  }\\n  .chip {\\n    background-color: #2c2c2c;\\n    border-color: #3c4043;\\n    color: #fff;\\n    text-decoration: none;\\n  }\\n  .chip:hover {\\n    background-color: #353536;\\n  }\\n  .chip:focus {\\n    background-color: #353536;\\n  }\\n  .chip:active {\\n    background-color: #464849;\\n    border-color: #53575b;\\n  }\\n  .logo-light {\\n    display: none;\\n  }\\n  .gradient {\\n    background: linear-gradient(90deg, #1f1f1f 15%, #1f1f1f00 100%);\\n  }\\n}\\n</style>\\n<div class=\"container\">\\n  <div class=\"headline\">\\n    <svg class=\"logo-light\" width=\"18\" height=\"18\" viewBox=\"9 9 35 35\" fill=\"none\" xmlns=\"http://www.w3.org/2000/svg\">\\n      <path fill-rule=\"evenodd\" clip-rule=\"evenodd\" d=\"M42.8622 27.0064C42.8622 25.7839 42.7525 24.6084 42.5487 23.4799H26.3109V30.1568H35.5897C35.1821 32.3041 33.9596 34.1222 32.1258 35.3448V39.6864H37.7213C40.9814 36.677 42.8622 32.2571 42.8622 27.0064V27.0064Z\" fill=\"#4285F4\"/>\\n      <path fill-rule=\"evenodd\" clip-rule=\"evenodd\" d=\"M26.3109 43.8555C30.9659 43.8555 34.8687 42.3195 37.7213 39.6863L32.1258 35.3447C30.5898 36.3792 28.6306 37.0061 26.3109 37.0061C21.8282 37.0061 18.0195 33.9811 16.6559 29.906H10.9194V34.3573C13.7563 39.9841 19.5712 43.8555 26.3109 43.8555V43.8555Z\" fill=\"#34A853\"/>\\n      <path fill-rule=\"evenodd\" clip-rule=\"evenodd\" d=\"M16.6559 29.8904C16.3111 28.8559 16.1074 27.7588 16.1074 26.6146C16.1074 25.4704 16.3111 24.3733 16.6559 23.3388V18.8875H10.9194C9.74388 21.2072 9.06992 23.8247 9.06992 26.6146C9.06992 29.4045 9.74388 32.022 10.9194 34.3417L15.3864 30.8621L16.6559 29.8904V29.8904Z\" fill=\"#FBBC05\"/>\\n      <path fill-rule=\"evenodd\" clip-rule=\"evenodd\" d=\"M26.3109 16.2386C28.85 16.2386 31.107 17.1164 32.9095 18.8091L37.8466 13.8719C34.853 11.082 30.9659 9.3736 26.3109 9.3736C19.5712 9.3736 13.7563 13.245 10.9194 18.8875L16.6559 23.3388C18.0195 19.2636 21.8282 16.2386 26.3109 16.2386V16.2386Z\" fill=\"#EA4335\"/>\\n    </svg>\\n    <svg class=\"logo-dark\" width=\"18\" height=\"18\" viewBox=\"0 0 48 48\" xmlns=\"http://www.w3.org/2000/svg\">\\n      <circle cx=\"24\" cy=\"23\" fill=\"#FFF\" r=\"22\"/>\\n      <path d=\"M33.76 34.26c2.75-2.56 4.49-6.37 4.49-11.26 0-.89-.08-1.84-.29-3H24.01v5.99h8.03c-.4 2.02-1.5 3.56-3.07 4.56v.75l3.91 2.97h.88z\" fill=\"#4285F4\"/>\\n      <path d=\"M15.58 25.77A8.845 8.845 0 0 0 24 31.86c1.92 0 3.62-.46 4.97-1.31l4.79 3.71C31.14 36.7 27.65 38 24 38c-5.93 0-11.01-3.4-13.45-8.36l.17-1.01 4.06-2.85h.8z\" fill=\"#34A853\"/>\\n      <path d=\"M15.59 20.21a8.864 8.864 0 0 0 0 5.58l-5.03 3.86c-.98-2-1.53-4.25-1.53-6.64 0-2.39.55-4.64 1.53-6.64l1-.22 3.81 2.98.22 1.08z\" fill=\"#FBBC05\"/>\\n      <path d=\"M24 14.14c2.11 0 4.02.75 5.52 1.98l4.36-4.36C31.22 9.43 27.81 8 24 8c-5.93 0-11.01 3.4-13.45 8.36l5.03 3.85A8.86 8.86 0 0 1 24 14.14z\" fill=\"#EA4335\"/>\\n    </svg>\\n    <div class=\"gradient-container\"><div class=\"gradient\"></div></div>\\n  </div>\\n  <div class=\"carousel\">\\n    <a class=\"chip\" href=\"https://vertexaisearch.cloud.google.com/grounding-api-redirect/AUBnsYvrRtin2oAA9B8Kfoa9Qj6gFBuj0GnnBA04w7bFHCjXdoMIMXS2pwuCpf8z-U9HOTComjn_bzAIxPf0CQyf4rhb2BgCK-eonOo9n4NCasVuRNpUtFyIkX0C9f7BDGBHmKlfO9HWtL9O5aBhkGDNgr1ZjyK_c_csWDY3XVCAKqYIdsgUkg2w4YMgt8IXhjPjbTRjUS9jcwDMpqkGvQhnZw==\">LPG 3 kg gas Indonesia news</a>\\n  </div>\\n</div>\\n', sdk_blob=None), web_search_queries=['LPG 3 kg gas Indonesia news']), index=None, logprobs_result=None, safety_ratings=None)] model_version='gemini-2.0-flash' prompt_feedback=None usage_metadata=GenerateContentResponseUsageMetadata(cached_content_token_count=None, candidates_token_count=214, prompt_token_count=14, total_token_count=228) automatic_function_calling_history=[] parsed=None\n"
     ]
    }
   ],
   "source": [
    "from google import genai\n",
    "from google.genai import types\n",
    "\n",
    "client = genai.Client(api_key=os.environ[\"GEMINI_API_KEY\"])\n",
    "\n",
    "response = client.models.generate_content(\n",
    "    model='gemini-2.0-flash',\n",
    "    contents=\"Briefly explain what happen on LPG 3 kg gas on Indonesia?\",\n",
    "    config=types.GenerateContentConfig(\n",
    "        tools=[types.Tool(\n",
    "            google_search=types.GoogleSearchRetrieval\n",
    "        )]\n",
    "    )\n",
    ")\n",
    "print(response)"
   ]
  },
  {
   "cell_type": "code",
   "execution_count": 37,
   "metadata": {},
   "outputs": [
    {
     "data": {
      "text/plain": [
       "\"Here's a brief explanation of what happened with 3 kg LPG gas in Indonesia:\\n\\n*   **Initial Policy Change:** In early February 2025, the Indonesian government implemented a policy to restrict the sale of 3 kg LPG canisters to only official distributors, aiming to better target subsidies to low-income households and small businesses. [3, 4]\\n*   **Resulting Issues:** This policy led to shortages, long queues, and public frustration as people struggled to obtain the cooking gas. [3]\\n*   **Policy Reversal:** Due to the backlash and difficulties faced by the public, President Prabowo Subianto intervened and instructed the Energy and Mineral Resources Minister to allow retailers to resume selling 3 kg LPG canisters. [2, 3, 5]\\n*   **Current Status:** Sales of 3 kg LPG have reportedly returned to normal following the President's order. [1, 5] The government is also planning to gradually register retailers as official sub-distributors. [3]\""
      ]
     },
     "execution_count": 37,
     "metadata": {},
     "output_type": "execute_result"
    }
   ],
   "source": [
    "response.text"
   ]
  },
  {
   "cell_type": "code",
   "execution_count": 20,
   "metadata": {},
   "outputs": [],
   "source": [
    "import requests\n",
    "import configuration\n",
    "\n",
    "jpg = 547561505785905313\n",
    "\n",
    "\n",
    "LINE_API_DATA_URL = \"https://api-data.line.me/v2/bot\"\n",
    "headers = {\"Authorization\": f\"Bearer {configuration.LINE_CHANNEL_ACCESS_TOKEN}\", \"Content-Type\": \"application/json\"}\n",
    "message_id = jpg\n",
    "\n",
    "destination_url = f\"{LINE_API_DATA_URL}/message/{message_id}/content\"\n",
    "result = requests.get(destination_url, headers=headers, timeout=10)"
   ]
  },
  {
   "cell_type": "code",
   "execution_count": 21,
   "metadata": {},
   "outputs": [],
   "source": [
    "from google import genai\n",
    "from google.genai import types\n",
    "\n",
    "client = genai.Client(api_key=os.environ[\"GEMINI_API_KEY\"])\n",
    "binary_data = result.content\n",
    "image_data = io.BytesIO(binary_data)\n",
    "\n",
    "myfile = client.files.upload(file=image_data, config={\"mime_type\": result.headers[\"Content-Type\"]})"
   ]
  },
  {
   "cell_type": "code",
   "execution_count": 47,
   "metadata": {},
   "outputs": [],
   "source": [
    "myfile.download_uri"
   ]
  },
  {
   "cell_type": "code",
   "execution_count": 39,
   "metadata": {},
   "outputs": [
    {
     "data": {
      "text/plain": [
       "b'{\"error\":\"Failed to process image. [in#0 @ 0x5dd6a7929900] Error opening input: Invalid data found when processing input\\\\nError opening input file /tmp/trace.moe-search-1691930617162894.\\\\nError opening input files: Invalid data found when processing input\\\\n\"}'"
      ]
     },
     "execution_count": 39,
     "metadata": {},
     "output_type": "execute_result"
    }
   ],
   "source": [
    "response.content"
   ]
  },
  {
   "cell_type": "code",
   "execution_count": 19,
   "metadata": {},
   "outputs": [
    {
     "data": {
      "text/plain": [
       "File(name='files/at742dswy35i', display_name=None, mime_type='image/jpeg', size_bytes=155314, create_time=datetime.datetime(2025, 2, 9, 6, 0, 37, 428102, tzinfo=TzInfo(UTC)), expiration_time=datetime.datetime(2025, 2, 11, 6, 0, 37, 424218, tzinfo=TzInfo(UTC)), update_time=datetime.datetime(2025, 2, 9, 6, 0, 37, 428102, tzinfo=TzInfo(UTC)), sha256_hash='MzViNjVhNmMzMTRiOTc4Nzk1NTY1ZjBkNTVjMWY0YzRlOTI3YTFiN2Q0ZGUwYjY0MmE5NTA0NDgxNGNiMTVmNg==', uri='https://generativelanguage.googleapis.com/v1beta/files/at742dswy35i', download_uri=None, state=<FileState.ACTIVE: 'ACTIVE'>, source=<FileSource.UPLOADED: 'UPLOADED'>, video_metadata=None, error=None)"
      ]
     },
     "execution_count": 19,
     "metadata": {},
     "output_type": "execute_result"
    }
   ],
   "source": [
    "client.files.get(name=myfile.name)"
   ]
  },
  {
   "cell_type": "code",
   "execution_count": 23,
   "metadata": {},
   "outputs": [
    {
     "data": {
      "text/plain": [
       "'2025-02-11T06:00:37.424218+00:00'"
      ]
     },
     "execution_count": 23,
     "metadata": {},
     "output_type": "execute_result"
    }
   ],
   "source": [
    "myfile.expiration_time.isoformat()"
   ]
  },
  {
   "cell_type": "code",
   "execution_count": 25,
   "metadata": {},
   "outputs": [
    {
     "name": "stdout",
     "output_type": "stream",
     "text": [
      "candidates=[Candidate(content=Content(parts=[Part(video_metadata=None, thought=None, code_execution_result=None, executable_code=None, file_data=None, function_call=None, function_response=None, inline_data=None, text='Give an image about a bento box with rice, fried food, carrots, and a packet of sauce, accompanied by a wrapped set of chopsticks and a packaged napkin. The box is open, revealing the contents arranged in separate compartments.\\n')], role='model'), citation_metadata=None, finish_message=None, token_count=None, avg_logprobs=None, finish_reason=<FinishReason.STOP: 'STOP'>, grounding_metadata=GroundingMetadata(grounding_chunks=None, grounding_supports=None, retrieval_metadata=None, retrieval_queries=None, search_entry_point=None, web_search_queries=None), index=None, logprobs_result=None, safety_ratings=None)] model_version='gemini-2.0-flash' prompt_feedback=None usage_metadata=GenerateContentResponseUsageMetadata(cached_content_token_count=None, candidates_token_count=47, prompt_token_count=1312, total_token_count=1359) automatic_function_calling_history=[] parsed=None\n"
     ]
    }
   ],
   "source": [
    "import google.genai\n",
    "client = google.genai.Client(api_key=os.environ[\"GEMINI_API_KEY\"])\n",
    "response = client.models.generate_content(\n",
    "    model='gemini-2.0-flash',\n",
    "    contents=[myfile, \"\\n\\n\", \"Describe the image in detail in 2 sentence. Start your response with 'Give an image about' \"],\n",
    "    config=types.GenerateContentConfig(\n",
    "        tools=[types.Tool(\n",
    "            google_search=types.GoogleSearchRetrieval\n",
    "        )]\n",
    "    )\n",
    ")\n",
    "print(response)"
   ]
  },
  {
   "cell_type": "code",
   "execution_count": 20,
   "metadata": {},
   "outputs": [
    {
     "name": "stdout",
     "output_type": "stream",
     "text": [
      "candidates=[Candidate(content=Content(parts=[Part(video_metadata=None, thought=None, code_execution_result=None, executable_code=None, file_data=None, function_call=None, function_response=None, inline_data=None, text='Give an image about an open bento box with multiple compartments containing rice, fried food, a packet of sauce labeled \"HokBen,\" and julienned carrots, along with packaged chopsticks and a wrapped napkin. The box is set against a surface with red and green markings.\\n')], role='model'), citation_metadata=None, finish_message=None, token_count=None, avg_logprobs=None, finish_reason=<FinishReason.STOP: 'STOP'>, grounding_metadata=GroundingMetadata(grounding_chunks=None, grounding_supports=None, retrieval_metadata=None, retrieval_queries=None, search_entry_point=None, web_search_queries=None), index=None, logprobs_result=None, safety_ratings=None)] model_version='gemini-2.0-flash' prompt_feedback=None usage_metadata=GenerateContentResponseUsageMetadata(cached_content_token_count=None, candidates_token_count=55, prompt_token_count=1312, total_token_count=1367) automatic_function_calling_history=[] parsed=None\n"
     ]
    }
   ],
   "source": [
    "from google import genai\n",
    "from google.genai import types\n",
    "\n",
    "client = genai.Client(api_key=os.environ[\"GEMINI_API_KEY\"])\n",
    "\n",
    "response = client.models.generate_content(\n",
    "    model='gemini-2.0-flash',\n",
    "    contents=[myfile, \"\\n\\n\", \"Describe the image in detail in 2 sentence. Start your response with 'Give an image about' \"],\n",
    "    config=types.GenerateContentConfig(\n",
    "        tools=[types.Tool(\n",
    "            google_search=types.GoogleSearchRetrieval\n",
    "        )]\n",
    "    )\n",
    ")\n",
    "print(response)"
   ]
  },
  {
   "cell_type": "code",
   "execution_count": 21,
   "metadata": {},
   "outputs": [
    {
     "data": {
      "text/plain": [
       "'Give an image about an open bento box with multiple compartments containing rice, fried food, a packet of sauce labeled \"HokBen,\" and julienned carrots, along with packaged chopsticks and a wrapped napkin. The box is set against a surface with red and green markings.\\n'"
      ]
     },
     "execution_count": 21,
     "metadata": {},
     "output_type": "execute_result"
    }
   ],
   "source": [
    "response.text"
   ]
  },
  {
   "cell_type": "code",
   "execution_count": 8,
   "metadata": {},
   "outputs": [
    {
     "data": {
      "text/plain": [
       "'image/jpeg'"
      ]
     },
     "execution_count": 8,
     "metadata": {},
     "output_type": "execute_result"
    }
   ],
   "source": [
    "result.headers[\"Content-Type\"]"
   ]
  },
  {
   "cell_type": "code",
   "execution_count": 5,
   "metadata": {},
   "outputs": [
    {
     "name": "stdout",
     "output_type": "stream",
     "text": [
      "genai.File({\n",
      "    'name': 'files/hfk4fwlglg58',\n",
      "    'display_name': '',\n",
      "    'mime_type': 'image/jpeg',\n",
      "    'sha256_hash': 'MzViNjVhNmMzMTRiOTc4Nzk1NTY1ZjBkNTVjMWY0YzRlOTI3YTFiN2Q0ZGUwYjY0MmE5NTA0NDgxNGNiMTVmNg==',\n",
      "    'size_bytes': '155314',\n",
      "    'state': 'ACTIVE',\n",
      "    'uri': 'https://generativelanguage.googleapis.com/v1beta/files/hfk4fwlglg58',\n",
      "    'create_time': '2025-02-08T20:03:29.857954Z',\n",
      "    'expiration_time': '2025-02-10T20:03:29.833089372Z',\n",
      "    'update_time': '2025-02-08T20:03:29.857954Z'})\n"
     ]
    }
   ],
   "source": [
    "import os\n",
    "import io\n",
    "import google.generativeai as genai2\n",
    "genai2.configure(api_key=os.environ[\"GEMINI_API_KEY\"])\n",
    "\n",
    "binary_data = result.content\n",
    "image_data = io.BytesIO(binary_data)\n",
    "\n",
    "myfile = genai2.upload_file(image_data, mime_type=result.headers.get(\"Content-Type\"))\n",
    "print(myfile)"
   ]
  },
  {
   "cell_type": "code",
   "execution_count": 142,
   "metadata": {},
   "outputs": [
    {
     "data": {
      "text/plain": [
       "google.generativeai.types.file_types.File"
      ]
     },
     "execution_count": 142,
     "metadata": {},
     "output_type": "execute_result"
    }
   ],
   "source": [
    "type(myfile)"
   ]
  },
  {
   "cell_type": "code",
   "execution_count": 7,
   "metadata": {},
   "outputs": [
    {
     "data": {
      "text/plain": [
       "'Rendang is a rich and flavorful Indonesian meat dish, typically beef, slow-cooked in coconut milk and a complex blend of spices until tender and infused with flavor.\\n'"
      ]
     },
     "execution_count": 7,
     "metadata": {},
     "output_type": "execute_result"
    }
   ],
   "source": [
    "agent = genai2.GenerativeModel(\"gemini-2.0-flash\")\n",
    "response = agent.generate_content(\"tell me about rendang in 1 short sentence\")\n",
    "response.text"
   ]
  },
  {
   "cell_type": "code",
   "execution_count": 112,
   "metadata": {},
   "outputs": [
    {
     "data": {
      "text/plain": [
       "DatetimeWithNanoseconds(2025, 2, 10, 16, 49, 2, 229570, tzinfo=datetime.timezone.utc)"
      ]
     },
     "execution_count": 112,
     "metadata": {},
     "output_type": "execute_result"
    }
   ],
   "source": [
    "myfile.expiration_time"
   ]
  },
  {
   "cell_type": "code",
   "execution_count": 116,
   "metadata": {},
   "outputs": [
    {
     "data": {
      "text/plain": [
       "datetime.datetime(2025, 2, 8, 17, 2, 55, 629754, tzinfo=datetime.timezone.utc)"
      ]
     },
     "execution_count": 116,
     "metadata": {},
     "output_type": "execute_result"
    }
   ],
   "source": [
    "from datetime import datetime, timezone\n",
    "now = datetime.now(timezone.utc)\n",
    "now"
   ]
  },
  {
   "cell_type": "code",
   "execution_count": 117,
   "metadata": {},
   "outputs": [
    {
     "data": {
      "text/plain": [
       "False"
      ]
     },
     "execution_count": 117,
     "metadata": {},
     "output_type": "execute_result"
    }
   ],
   "source": [
    "myfile.expiration_time < now"
   ]
  },
  {
   "cell_type": "code",
   "execution_count": 113,
   "metadata": {},
   "outputs": [
    {
     "data": {
      "text/plain": [
       "google.generativeai.types.file_types.File"
      ]
     },
     "execution_count": 113,
     "metadata": {},
     "output_type": "execute_result"
    }
   ],
   "source": [
    "type(myfile)"
   ]
  },
  {
   "cell_type": "code",
   "execution_count": 8,
   "metadata": {},
   "outputs": [
    {
     "name": "stdout",
     "output_type": "stream",
     "text": [
      "result.text='Give an image about a bento box filled with rice, fried food, carrots, and a packet of Hokben sauce with a set of chopsticks being held in front of it. The box also contains a plastic-wrapped wet wipe.'\n"
     ]
    }
   ],
   "source": [
    "result = agent.generate_content(\n",
    "    [genai2.get_file(myfile.name), \"\\n\\n\", \"Describe the image in detail in 2 sentence. Start your response with 'Give an image about' \"]\n",
    ")\n",
    "print(f\"{result.text=}\")"
   ]
  },
  {
   "cell_type": "code",
   "execution_count": 11,
   "metadata": {},
   "outputs": [],
   "source": [
    "def file_to_dict(file_obj) -> dict:\n",
    "    \"\"\"\n",
    "    Convert a File object into a dictionary containing only the supported fields.\n",
    "    \"\"\"\n",
    "    supported_fields = [\n",
    "        \"name\", \"display_name\", \"mime_type\", \"sha256_hash\",\n",
    "        \"size_bytes\", \"state\", \"uri\", \"create_time\", \"expiration_time\", \"update_time\"\n",
    "    ]\n",
    "    return {field: getattr(file_obj, field) for field in supported_fields if hasattr(file_obj, field)}\n"
   ]
  },
  {
   "cell_type": "code",
   "execution_count": 12,
   "metadata": {},
   "outputs": [
    {
     "ename": "ValidationError",
     "evalue": "39 validation errors for _GenerateContentParameters\ncontents.list[union[Content,list[union[File,Part,str]],File,Part,str]].0.Content.name\n  Extra inputs are not permitted [type=extra_forbidden, input_value='files/hfk4fwlglg58', input_type=str]\n    For further information visit https://errors.pydantic.dev/2.11/v/extra_forbidden\ncontents.list[union[Content,list[union[File,Part,str]],File,Part,str]].0.Content.display_name\n  Extra inputs are not permitted [type=extra_forbidden, input_value='', input_type=str]\n    For further information visit https://errors.pydantic.dev/2.11/v/extra_forbidden\ncontents.list[union[Content,list[union[File,Part,str]],File,Part,str]].0.Content.mime_type\n  Extra inputs are not permitted [type=extra_forbidden, input_value='image/jpeg', input_type=str]\n    For further information visit https://errors.pydantic.dev/2.11/v/extra_forbidden\ncontents.list[union[Content,list[union[File,Part,str]],File,Part,str]].0.Content.sha256_hash\n  Extra inputs are not permitted [type=extra_forbidden, input_value=b'35b65a6c314b978795565f0...4de0b642a95044814cb15f6', input_type=bytes]\n    For further information visit https://errors.pydantic.dev/2.11/v/extra_forbidden\ncontents.list[union[Content,list[union[File,Part,str]],File,Part,str]].0.Content.size_bytes\n  Extra inputs are not permitted [type=extra_forbidden, input_value=155314, input_type=int]\n    For further information visit https://errors.pydantic.dev/2.11/v/extra_forbidden\ncontents.list[union[Content,list[union[File,Part,str]],File,Part,str]].0.Content.state\n  Extra inputs are not permitted [type=extra_forbidden, input_value=<State.ACTIVE: 2>, input_type=File.State]\n    For further information visit https://errors.pydantic.dev/2.11/v/extra_forbidden\ncontents.list[union[Content,list[union[File,Part,str]],File,Part,str]].0.Content.uri\n  Extra inputs are not permitted [type=extra_forbidden, input_value='https://generativelangua...beta/files/hfk4fwlglg58', input_type=str]\n    For further information visit https://errors.pydantic.dev/2.11/v/extra_forbidden\ncontents.list[union[Content,list[union[File,Part,str]],File,Part,str]].0.Content.create_time\n  Extra inputs are not permitted [type=extra_forbidden, input_value=DatetimeWithNanoseconds(2...o=datetime.timezone.utc), input_type=DatetimeWithNanoseconds]\n    For further information visit https://errors.pydantic.dev/2.11/v/extra_forbidden\ncontents.list[union[Content,list[union[File,Part,str]],File,Part,str]].0.Content.expiration_time\n  Extra inputs are not permitted [type=extra_forbidden, input_value=DatetimeWithNanoseconds(2...o=datetime.timezone.utc), input_type=DatetimeWithNanoseconds]\n    For further information visit https://errors.pydantic.dev/2.11/v/extra_forbidden\ncontents.list[union[Content,list[union[File,Part,str]],File,Part,str]].0.Content.update_time\n  Extra inputs are not permitted [type=extra_forbidden, input_value=DatetimeWithNanoseconds(2...o=datetime.timezone.utc), input_type=DatetimeWithNanoseconds]\n    For further information visit https://errors.pydantic.dev/2.11/v/extra_forbidden\ncontents.list[union[Content,list[union[File,Part,str]],File,Part,str]].0.list[union[File,Part,str]]\n  Input should be a valid list [type=list_type, input_value={'name': 'files/hfk4fwlgl...=datetime.timezone.utc)}, input_type=dict]\n    For further information visit https://errors.pydantic.dev/2.11/v/list_type\ncontents.list[union[Content,list[union[File,Part,str]],File,Part,str]].0.File.state\n  Input should be 'STATE_UNSPECIFIED', 'PROCESSING', 'ACTIVE' or 'FAILED' [type=enum, input_value=<State.ACTIVE: 2>, input_type=File.State]\n    For further information visit https://errors.pydantic.dev/2.11/v/enum\ncontents.list[union[Content,list[union[File,Part,str]],File,Part,str]].0.Part.name\n  Extra inputs are not permitted [type=extra_forbidden, input_value='files/hfk4fwlglg58', input_type=str]\n    For further information visit https://errors.pydantic.dev/2.11/v/extra_forbidden\ncontents.list[union[Content,list[union[File,Part,str]],File,Part,str]].0.Part.display_name\n  Extra inputs are not permitted [type=extra_forbidden, input_value='', input_type=str]\n    For further information visit https://errors.pydantic.dev/2.11/v/extra_forbidden\ncontents.list[union[Content,list[union[File,Part,str]],File,Part,str]].0.Part.mime_type\n  Extra inputs are not permitted [type=extra_forbidden, input_value='image/jpeg', input_type=str]\n    For further information visit https://errors.pydantic.dev/2.11/v/extra_forbidden\ncontents.list[union[Content,list[union[File,Part,str]],File,Part,str]].0.Part.sha256_hash\n  Extra inputs are not permitted [type=extra_forbidden, input_value=b'35b65a6c314b978795565f0...4de0b642a95044814cb15f6', input_type=bytes]\n    For further information visit https://errors.pydantic.dev/2.11/v/extra_forbidden\ncontents.list[union[Content,list[union[File,Part,str]],File,Part,str]].0.Part.size_bytes\n  Extra inputs are not permitted [type=extra_forbidden, input_value=155314, input_type=int]\n    For further information visit https://errors.pydantic.dev/2.11/v/extra_forbidden\ncontents.list[union[Content,list[union[File,Part,str]],File,Part,str]].0.Part.state\n  Extra inputs are not permitted [type=extra_forbidden, input_value=<State.ACTIVE: 2>, input_type=File.State]\n    For further information visit https://errors.pydantic.dev/2.11/v/extra_forbidden\ncontents.list[union[Content,list[union[File,Part,str]],File,Part,str]].0.Part.uri\n  Extra inputs are not permitted [type=extra_forbidden, input_value='https://generativelangua...beta/files/hfk4fwlglg58', input_type=str]\n    For further information visit https://errors.pydantic.dev/2.11/v/extra_forbidden\ncontents.list[union[Content,list[union[File,Part,str]],File,Part,str]].0.Part.create_time\n  Extra inputs are not permitted [type=extra_forbidden, input_value=DatetimeWithNanoseconds(2...o=datetime.timezone.utc), input_type=DatetimeWithNanoseconds]\n    For further information visit https://errors.pydantic.dev/2.11/v/extra_forbidden\ncontents.list[union[Content,list[union[File,Part,str]],File,Part,str]].0.Part.expiration_time\n  Extra inputs are not permitted [type=extra_forbidden, input_value=DatetimeWithNanoseconds(2...o=datetime.timezone.utc), input_type=DatetimeWithNanoseconds]\n    For further information visit https://errors.pydantic.dev/2.11/v/extra_forbidden\ncontents.list[union[Content,list[union[File,Part,str]],File,Part,str]].0.Part.update_time\n  Extra inputs are not permitted [type=extra_forbidden, input_value=DatetimeWithNanoseconds(2...o=datetime.timezone.utc), input_type=DatetimeWithNanoseconds]\n    For further information visit https://errors.pydantic.dev/2.11/v/extra_forbidden\ncontents.list[union[Content,list[union[File,Part,str]],File,Part,str]].0.str\n  Input should be a valid string [type=string_type, input_value={'name': 'files/hfk4fwlgl...=datetime.timezone.utc)}, input_type=dict]\n    For further information visit https://errors.pydantic.dev/2.11/v/string_type\ncontents.Content\n  Input should be a valid dictionary or object to extract fields from [type=model_attributes_type, input_value=[{'name': 'files/hfk4fwlg...'Give an image about' \"], input_type=list]\n    For further information visit https://errors.pydantic.dev/2.11/v/model_attributes_type\ncontents.list[union[File,Part,str]].0.File.state\n  Input should be 'STATE_UNSPECIFIED', 'PROCESSING', 'ACTIVE' or 'FAILED' [type=enum, input_value=<State.ACTIVE: 2>, input_type=File.State]\n    For further information visit https://errors.pydantic.dev/2.11/v/enum\ncontents.list[union[File,Part,str]].0.Part.name\n  Extra inputs are not permitted [type=extra_forbidden, input_value='files/hfk4fwlglg58', input_type=str]\n    For further information visit https://errors.pydantic.dev/2.11/v/extra_forbidden\ncontents.list[union[File,Part,str]].0.Part.display_name\n  Extra inputs are not permitted [type=extra_forbidden, input_value='', input_type=str]\n    For further information visit https://errors.pydantic.dev/2.11/v/extra_forbidden\ncontents.list[union[File,Part,str]].0.Part.mime_type\n  Extra inputs are not permitted [type=extra_forbidden, input_value='image/jpeg', input_type=str]\n    For further information visit https://errors.pydantic.dev/2.11/v/extra_forbidden\ncontents.list[union[File,Part,str]].0.Part.sha256_hash\n  Extra inputs are not permitted [type=extra_forbidden, input_value=b'35b65a6c314b978795565f0...4de0b642a95044814cb15f6', input_type=bytes]\n    For further information visit https://errors.pydantic.dev/2.11/v/extra_forbidden\ncontents.list[union[File,Part,str]].0.Part.size_bytes\n  Extra inputs are not permitted [type=extra_forbidden, input_value=155314, input_type=int]\n    For further information visit https://errors.pydantic.dev/2.11/v/extra_forbidden\ncontents.list[union[File,Part,str]].0.Part.state\n  Extra inputs are not permitted [type=extra_forbidden, input_value=<State.ACTIVE: 2>, input_type=File.State]\n    For further information visit https://errors.pydantic.dev/2.11/v/extra_forbidden\ncontents.list[union[File,Part,str]].0.Part.uri\n  Extra inputs are not permitted [type=extra_forbidden, input_value='https://generativelangua...beta/files/hfk4fwlglg58', input_type=str]\n    For further information visit https://errors.pydantic.dev/2.11/v/extra_forbidden\ncontents.list[union[File,Part,str]].0.Part.create_time\n  Extra inputs are not permitted [type=extra_forbidden, input_value=DatetimeWithNanoseconds(2...o=datetime.timezone.utc), input_type=DatetimeWithNanoseconds]\n    For further information visit https://errors.pydantic.dev/2.11/v/extra_forbidden\ncontents.list[union[File,Part,str]].0.Part.expiration_time\n  Extra inputs are not permitted [type=extra_forbidden, input_value=DatetimeWithNanoseconds(2...o=datetime.timezone.utc), input_type=DatetimeWithNanoseconds]\n    For further information visit https://errors.pydantic.dev/2.11/v/extra_forbidden\ncontents.list[union[File,Part,str]].0.Part.update_time\n  Extra inputs are not permitted [type=extra_forbidden, input_value=DatetimeWithNanoseconds(2...o=datetime.timezone.utc), input_type=DatetimeWithNanoseconds]\n    For further information visit https://errors.pydantic.dev/2.11/v/extra_forbidden\ncontents.list[union[File,Part,str]].0.str\n  Input should be a valid string [type=string_type, input_value={'name': 'files/hfk4fwlgl...=datetime.timezone.utc)}, input_type=dict]\n    For further information visit https://errors.pydantic.dev/2.11/v/string_type\ncontents.File\n  Input should be a valid dictionary or object to extract fields from [type=model_attributes_type, input_value=[{'name': 'files/hfk4fwlg...'Give an image about' \"], input_type=list]\n    For further information visit https://errors.pydantic.dev/2.11/v/model_attributes_type\ncontents.Part\n  Input should be a valid dictionary or object to extract fields from [type=model_attributes_type, input_value=[{'name': 'files/hfk4fwlg...'Give an image about' \"], input_type=list]\n    For further information visit https://errors.pydantic.dev/2.11/v/model_attributes_type\ncontents.str\n  Input should be a valid string [type=string_type, input_value=[{'name': 'files/hfk4fwlg...'Give an image about' \"], input_type=list]\n    For further information visit https://errors.pydantic.dev/2.11/v/string_type",
     "output_type": "error",
     "traceback": [
      "\u001b[1;31m---------------------------------------------------------------------------\u001b[0m",
      "\u001b[1;31mValidationError\u001b[0m                           Traceback (most recent call last)",
      "Cell \u001b[1;32mIn[12], line 13\u001b[0m\n\u001b[0;32m     10\u001b[0m \u001b[38;5;66;03m# Convert it to a dictionary with only supported fields.\u001b[39;00m\n\u001b[0;32m     11\u001b[0m file_data \u001b[38;5;241m=\u001b[39m file_to_dict(file_obj)\n\u001b[1;32m---> 13\u001b[0m response \u001b[38;5;241m=\u001b[39m \u001b[43mclient\u001b[49m\u001b[38;5;241;43m.\u001b[39;49m\u001b[43mmodels\u001b[49m\u001b[38;5;241;43m.\u001b[39;49m\u001b[43mgenerate_content\u001b[49m\u001b[43m(\u001b[49m\n\u001b[0;32m     14\u001b[0m \u001b[43m    \u001b[49m\u001b[43mmodel\u001b[49m\u001b[38;5;241;43m=\u001b[39;49m\u001b[38;5;124;43m'\u001b[39;49m\u001b[38;5;124;43mgemini-2.0-flash\u001b[39;49m\u001b[38;5;124;43m'\u001b[39;49m\u001b[43m,\u001b[49m\n\u001b[0;32m     15\u001b[0m \u001b[43m    \u001b[49m\u001b[43mcontents\u001b[49m\u001b[38;5;241;43m=\u001b[39;49m\u001b[43m[\u001b[49m\n\u001b[0;32m     16\u001b[0m \u001b[43m        \u001b[49m\u001b[43mfile_data\u001b[49m\u001b[43m,\u001b[49m\n\u001b[0;32m     17\u001b[0m \u001b[43m        \u001b[49m\u001b[38;5;124;43m\"\u001b[39;49m\u001b[38;5;130;43;01m\\n\u001b[39;49;00m\u001b[38;5;130;43;01m\\n\u001b[39;49;00m\u001b[38;5;124;43m\"\u001b[39;49m\u001b[43m,\u001b[49m\n\u001b[0;32m     18\u001b[0m \u001b[43m        \u001b[49m\u001b[38;5;124;43m\"\u001b[39;49m\u001b[38;5;124;43mDescribe the image in detail in 2 sentences. Start your response with \u001b[39;49m\u001b[38;5;124;43m'\u001b[39;49m\u001b[38;5;124;43mGive an image about\u001b[39;49m\u001b[38;5;124;43m'\u001b[39;49m\u001b[38;5;124;43m \u001b[39;49m\u001b[38;5;124;43m\"\u001b[39;49m\n\u001b[0;32m     19\u001b[0m \u001b[43m    \u001b[49m\u001b[43m]\u001b[49m\u001b[43m,\u001b[49m\n\u001b[0;32m     20\u001b[0m \u001b[43m    \u001b[49m\u001b[43mconfig\u001b[49m\u001b[38;5;241;43m=\u001b[39;49m\u001b[43mtypes\u001b[49m\u001b[38;5;241;43m.\u001b[39;49m\u001b[43mGenerateContentConfig\u001b[49m\u001b[43m(\u001b[49m\n\u001b[0;32m     21\u001b[0m \u001b[43m        \u001b[49m\u001b[43msystem_instruction\u001b[49m\u001b[38;5;241;43m=\u001b[39;49m\u001b[38;5;124;43m\"\u001b[39;49m\u001b[38;5;124;43mYou are a helpful assistant\u001b[39;49m\u001b[38;5;124;43m\"\u001b[39;49m\u001b[43m,\u001b[49m\n\u001b[0;32m     22\u001b[0m \u001b[43m        \u001b[49m\u001b[43mtools\u001b[49m\u001b[38;5;241;43m=\u001b[39;49m\u001b[43m[\u001b[49m\n\u001b[0;32m     23\u001b[0m \u001b[43m            \u001b[49m\u001b[43mtypes\u001b[49m\u001b[38;5;241;43m.\u001b[39;49m\u001b[43mTool\u001b[49m\u001b[43m(\u001b[49m\n\u001b[0;32m     24\u001b[0m \u001b[43m                \u001b[49m\u001b[43mgoogle_search\u001b[49m\u001b[38;5;241;43m=\u001b[39;49m\u001b[43mtypes\u001b[49m\u001b[38;5;241;43m.\u001b[39;49m\u001b[43mGoogleSearchRetrieval\u001b[49m\u001b[43m(\u001b[49m\n\u001b[0;32m     25\u001b[0m \u001b[43m                    \u001b[49m\u001b[43mdynamic_retrieval_config\u001b[49m\u001b[38;5;241;43m=\u001b[39;49m\u001b[43mtypes\u001b[49m\u001b[38;5;241;43m.\u001b[39;49m\u001b[43mDynamicRetrievalConfig\u001b[49m\u001b[43m(\u001b[49m\u001b[43mdynamic_threshold\u001b[49m\u001b[38;5;241;43m=\u001b[39;49m\u001b[38;5;241;43m0.6\u001b[39;49m\u001b[43m)\u001b[49m\n\u001b[0;32m     26\u001b[0m \u001b[43m                \u001b[49m\u001b[43m)\u001b[49m\n\u001b[0;32m     27\u001b[0m \u001b[43m            \u001b[49m\u001b[43m)\u001b[49m\n\u001b[0;32m     28\u001b[0m \u001b[43m        \u001b[49m\u001b[43m]\u001b[49m\u001b[43m,\u001b[49m\n\u001b[0;32m     29\u001b[0m \u001b[43m    \u001b[49m\u001b[43m)\u001b[49m\u001b[43m,\u001b[49m\n\u001b[0;32m     30\u001b[0m \u001b[43m)\u001b[49m\n\u001b[0;32m     31\u001b[0m result \u001b[38;5;241m=\u001b[39m response\u001b[38;5;241m.\u001b[39mtext\n",
      "File \u001b[1;32mc:\\Users\\jefta\\Downloads\\Projects\\line-bot\\.venv\\Lib\\site-packages\\google\\genai\\models.py:4680\u001b[0m, in \u001b[0;36mModels.generate_content\u001b[1;34m(self, model, contents, config)\u001b[0m\n\u001b[0;32m   4678\u001b[0m \u001b[38;5;28;01mwhile\u001b[39;00m remaining_remote_calls_afc \u001b[38;5;241m>\u001b[39m \u001b[38;5;241m0\u001b[39m:\n\u001b[0;32m   4679\u001b[0m   i \u001b[38;5;241m+\u001b[39m\u001b[38;5;241m=\u001b[39m \u001b[38;5;241m1\u001b[39m\n\u001b[1;32m-> 4680\u001b[0m   response \u001b[38;5;241m=\u001b[39m \u001b[38;5;28;43mself\u001b[39;49m\u001b[38;5;241;43m.\u001b[39;49m\u001b[43m_generate_content\u001b[49m\u001b[43m(\u001b[49m\n\u001b[0;32m   4681\u001b[0m \u001b[43m      \u001b[49m\u001b[43mmodel\u001b[49m\u001b[38;5;241;43m=\u001b[39;49m\u001b[43mmodel\u001b[49m\u001b[43m,\u001b[49m\u001b[43m \u001b[49m\u001b[43mcontents\u001b[49m\u001b[38;5;241;43m=\u001b[39;49m\u001b[43mcontents\u001b[49m\u001b[43m,\u001b[49m\u001b[43m \u001b[49m\u001b[43mconfig\u001b[49m\u001b[38;5;241;43m=\u001b[39;49m\u001b[43mconfig\u001b[49m\n\u001b[0;32m   4682\u001b[0m \u001b[43m  \u001b[49m\u001b[43m)\u001b[49m\n\u001b[0;32m   4683\u001b[0m   logging\u001b[38;5;241m.\u001b[39minfo(\u001b[38;5;124mf\u001b[39m\u001b[38;5;124m'\u001b[39m\u001b[38;5;124mAFC remote call \u001b[39m\u001b[38;5;132;01m{\u001b[39;00mi\u001b[38;5;132;01m}\u001b[39;00m\u001b[38;5;124m is done.\u001b[39m\u001b[38;5;124m'\u001b[39m)\n\u001b[0;32m   4684\u001b[0m   remaining_remote_calls_afc \u001b[38;5;241m-\u001b[39m\u001b[38;5;241m=\u001b[39m \u001b[38;5;241m1\u001b[39m\n",
      "File \u001b[1;32mc:\\Users\\jefta\\Downloads\\Projects\\line-bot\\.venv\\Lib\\site-packages\\google\\genai\\models.py:3808\u001b[0m, in \u001b[0;36mModels._generate_content\u001b[1;34m(self, model, contents, config)\u001b[0m\n\u001b[0;32m   3801\u001b[0m \u001b[38;5;28;01mdef\u001b[39;00m\u001b[38;5;250m \u001b[39m\u001b[38;5;21m_generate_content\u001b[39m(\n\u001b[0;32m   3802\u001b[0m     \u001b[38;5;28mself\u001b[39m,\n\u001b[0;32m   3803\u001b[0m     \u001b[38;5;241m*\u001b[39m,\n\u001b[1;32m   (...)\u001b[0m\n\u001b[0;32m   3806\u001b[0m     config: Optional[types\u001b[38;5;241m.\u001b[39mGenerateContentConfigOrDict] \u001b[38;5;241m=\u001b[39m \u001b[38;5;28;01mNone\u001b[39;00m,\n\u001b[0;32m   3807\u001b[0m ) \u001b[38;5;241m-\u001b[39m\u001b[38;5;241m>\u001b[39m types\u001b[38;5;241m.\u001b[39mGenerateContentResponse:\n\u001b[1;32m-> 3808\u001b[0m   parameter_model \u001b[38;5;241m=\u001b[39m \u001b[43mtypes\u001b[49m\u001b[38;5;241;43m.\u001b[39;49m\u001b[43m_GenerateContentParameters\u001b[49m\u001b[43m(\u001b[49m\n\u001b[0;32m   3809\u001b[0m \u001b[43m      \u001b[49m\u001b[43mmodel\u001b[49m\u001b[38;5;241;43m=\u001b[39;49m\u001b[43mmodel\u001b[49m\u001b[43m,\u001b[49m\n\u001b[0;32m   3810\u001b[0m \u001b[43m      \u001b[49m\u001b[43mcontents\u001b[49m\u001b[38;5;241;43m=\u001b[39;49m\u001b[43mcontents\u001b[49m\u001b[43m,\u001b[49m\n\u001b[0;32m   3811\u001b[0m \u001b[43m      \u001b[49m\u001b[43mconfig\u001b[49m\u001b[38;5;241;43m=\u001b[39;49m\u001b[43mconfig\u001b[49m\u001b[43m,\u001b[49m\n\u001b[0;32m   3812\u001b[0m \u001b[43m  \u001b[49m\u001b[43m)\u001b[49m\n\u001b[0;32m   3814\u001b[0m   \u001b[38;5;28;01mif\u001b[39;00m \u001b[38;5;28mself\u001b[39m\u001b[38;5;241m.\u001b[39m_api_client\u001b[38;5;241m.\u001b[39mvertexai:\n\u001b[0;32m   3815\u001b[0m     request_dict \u001b[38;5;241m=\u001b[39m _GenerateContentParameters_to_vertex(\n\u001b[0;32m   3816\u001b[0m         \u001b[38;5;28mself\u001b[39m\u001b[38;5;241m.\u001b[39m_api_client, parameter_model\n\u001b[0;32m   3817\u001b[0m     )\n",
      "File \u001b[1;32mc:\\Users\\jefta\\Downloads\\Projects\\line-bot\\.venv\\Lib\\site-packages\\pydantic\\main.py:230\u001b[0m, in \u001b[0;36mBaseModel.__init__\u001b[1;34m(self, **data)\u001b[0m\n\u001b[0;32m    228\u001b[0m \u001b[38;5;66;03m# `__tracebackhide__` tells pytest and some other tools to omit this function from tracebacks\u001b[39;00m\n\u001b[0;32m    229\u001b[0m __tracebackhide__ \u001b[38;5;241m=\u001b[39m \u001b[38;5;28;01mTrue\u001b[39;00m\n\u001b[1;32m--> 230\u001b[0m validated_self \u001b[38;5;241m=\u001b[39m \u001b[38;5;28;43mself\u001b[39;49m\u001b[38;5;241;43m.\u001b[39;49m\u001b[43m__pydantic_validator__\u001b[49m\u001b[38;5;241;43m.\u001b[39;49m\u001b[43mvalidate_python\u001b[49m\u001b[43m(\u001b[49m\u001b[43mdata\u001b[49m\u001b[43m,\u001b[49m\u001b[43m \u001b[49m\u001b[43mself_instance\u001b[49m\u001b[38;5;241;43m=\u001b[39;49m\u001b[38;5;28;43mself\u001b[39;49m\u001b[43m)\u001b[49m\n\u001b[0;32m    231\u001b[0m \u001b[38;5;28;01mif\u001b[39;00m \u001b[38;5;28mself\u001b[39m \u001b[38;5;129;01mis\u001b[39;00m \u001b[38;5;129;01mnot\u001b[39;00m validated_self:\n\u001b[0;32m    232\u001b[0m     warnings\u001b[38;5;241m.\u001b[39mwarn(\n\u001b[0;32m    233\u001b[0m         \u001b[38;5;124m'\u001b[39m\u001b[38;5;124mA custom validator is returning a value other than `self`.\u001b[39m\u001b[38;5;130;01m\\n\u001b[39;00m\u001b[38;5;124m'\u001b[39m\n\u001b[0;32m    234\u001b[0m         \u001b[38;5;124m\"\u001b[39m\u001b[38;5;124mReturning anything other than `self` from a top level model validator isn\u001b[39m\u001b[38;5;124m'\u001b[39m\u001b[38;5;124mt supported when validating via `__init__`.\u001b[39m\u001b[38;5;130;01m\\n\u001b[39;00m\u001b[38;5;124m\"\u001b[39m\n\u001b[0;32m    235\u001b[0m         \u001b[38;5;124m'\u001b[39m\u001b[38;5;124mSee the `model_validator` docs (https://docs.pydantic.dev/latest/concepts/validators/#model-validators) for more details.\u001b[39m\u001b[38;5;124m'\u001b[39m,\n\u001b[0;32m    236\u001b[0m         stacklevel\u001b[38;5;241m=\u001b[39m\u001b[38;5;241m2\u001b[39m,\n\u001b[0;32m    237\u001b[0m     )\n",
      "\u001b[1;31mValidationError\u001b[0m: 39 validation errors for _GenerateContentParameters\ncontents.list[union[Content,list[union[File,Part,str]],File,Part,str]].0.Content.name\n  Extra inputs are not permitted [type=extra_forbidden, input_value='files/hfk4fwlglg58', input_type=str]\n    For further information visit https://errors.pydantic.dev/2.11/v/extra_forbidden\ncontents.list[union[Content,list[union[File,Part,str]],File,Part,str]].0.Content.display_name\n  Extra inputs are not permitted [type=extra_forbidden, input_value='', input_type=str]\n    For further information visit https://errors.pydantic.dev/2.11/v/extra_forbidden\ncontents.list[union[Content,list[union[File,Part,str]],File,Part,str]].0.Content.mime_type\n  Extra inputs are not permitted [type=extra_forbidden, input_value='image/jpeg', input_type=str]\n    For further information visit https://errors.pydantic.dev/2.11/v/extra_forbidden\ncontents.list[union[Content,list[union[File,Part,str]],File,Part,str]].0.Content.sha256_hash\n  Extra inputs are not permitted [type=extra_forbidden, input_value=b'35b65a6c314b978795565f0...4de0b642a95044814cb15f6', input_type=bytes]\n    For further information visit https://errors.pydantic.dev/2.11/v/extra_forbidden\ncontents.list[union[Content,list[union[File,Part,str]],File,Part,str]].0.Content.size_bytes\n  Extra inputs are not permitted [type=extra_forbidden, input_value=155314, input_type=int]\n    For further information visit https://errors.pydantic.dev/2.11/v/extra_forbidden\ncontents.list[union[Content,list[union[File,Part,str]],File,Part,str]].0.Content.state\n  Extra inputs are not permitted [type=extra_forbidden, input_value=<State.ACTIVE: 2>, input_type=File.State]\n    For further information visit https://errors.pydantic.dev/2.11/v/extra_forbidden\ncontents.list[union[Content,list[union[File,Part,str]],File,Part,str]].0.Content.uri\n  Extra inputs are not permitted [type=extra_forbidden, input_value='https://generativelangua...beta/files/hfk4fwlglg58', input_type=str]\n    For further information visit https://errors.pydantic.dev/2.11/v/extra_forbidden\ncontents.list[union[Content,list[union[File,Part,str]],File,Part,str]].0.Content.create_time\n  Extra inputs are not permitted [type=extra_forbidden, input_value=DatetimeWithNanoseconds(2...o=datetime.timezone.utc), input_type=DatetimeWithNanoseconds]\n    For further information visit https://errors.pydantic.dev/2.11/v/extra_forbidden\ncontents.list[union[Content,list[union[File,Part,str]],File,Part,str]].0.Content.expiration_time\n  Extra inputs are not permitted [type=extra_forbidden, input_value=DatetimeWithNanoseconds(2...o=datetime.timezone.utc), input_type=DatetimeWithNanoseconds]\n    For further information visit https://errors.pydantic.dev/2.11/v/extra_forbidden\ncontents.list[union[Content,list[union[File,Part,str]],File,Part,str]].0.Content.update_time\n  Extra inputs are not permitted [type=extra_forbidden, input_value=DatetimeWithNanoseconds(2...o=datetime.timezone.utc), input_type=DatetimeWithNanoseconds]\n    For further information visit https://errors.pydantic.dev/2.11/v/extra_forbidden\ncontents.list[union[Content,list[union[File,Part,str]],File,Part,str]].0.list[union[File,Part,str]]\n  Input should be a valid list [type=list_type, input_value={'name': 'files/hfk4fwlgl...=datetime.timezone.utc)}, input_type=dict]\n    For further information visit https://errors.pydantic.dev/2.11/v/list_type\ncontents.list[union[Content,list[union[File,Part,str]],File,Part,str]].0.File.state\n  Input should be 'STATE_UNSPECIFIED', 'PROCESSING', 'ACTIVE' or 'FAILED' [type=enum, input_value=<State.ACTIVE: 2>, input_type=File.State]\n    For further information visit https://errors.pydantic.dev/2.11/v/enum\ncontents.list[union[Content,list[union[File,Part,str]],File,Part,str]].0.Part.name\n  Extra inputs are not permitted [type=extra_forbidden, input_value='files/hfk4fwlglg58', input_type=str]\n    For further information visit https://errors.pydantic.dev/2.11/v/extra_forbidden\ncontents.list[union[Content,list[union[File,Part,str]],File,Part,str]].0.Part.display_name\n  Extra inputs are not permitted [type=extra_forbidden, input_value='', input_type=str]\n    For further information visit https://errors.pydantic.dev/2.11/v/extra_forbidden\ncontents.list[union[Content,list[union[File,Part,str]],File,Part,str]].0.Part.mime_type\n  Extra inputs are not permitted [type=extra_forbidden, input_value='image/jpeg', input_type=str]\n    For further information visit https://errors.pydantic.dev/2.11/v/extra_forbidden\ncontents.list[union[Content,list[union[File,Part,str]],File,Part,str]].0.Part.sha256_hash\n  Extra inputs are not permitted [type=extra_forbidden, input_value=b'35b65a6c314b978795565f0...4de0b642a95044814cb15f6', input_type=bytes]\n    For further information visit https://errors.pydantic.dev/2.11/v/extra_forbidden\ncontents.list[union[Content,list[union[File,Part,str]],File,Part,str]].0.Part.size_bytes\n  Extra inputs are not permitted [type=extra_forbidden, input_value=155314, input_type=int]\n    For further information visit https://errors.pydantic.dev/2.11/v/extra_forbidden\ncontents.list[union[Content,list[union[File,Part,str]],File,Part,str]].0.Part.state\n  Extra inputs are not permitted [type=extra_forbidden, input_value=<State.ACTIVE: 2>, input_type=File.State]\n    For further information visit https://errors.pydantic.dev/2.11/v/extra_forbidden\ncontents.list[union[Content,list[union[File,Part,str]],File,Part,str]].0.Part.uri\n  Extra inputs are not permitted [type=extra_forbidden, input_value='https://generativelangua...beta/files/hfk4fwlglg58', input_type=str]\n    For further information visit https://errors.pydantic.dev/2.11/v/extra_forbidden\ncontents.list[union[Content,list[union[File,Part,str]],File,Part,str]].0.Part.create_time\n  Extra inputs are not permitted [type=extra_forbidden, input_value=DatetimeWithNanoseconds(2...o=datetime.timezone.utc), input_type=DatetimeWithNanoseconds]\n    For further information visit https://errors.pydantic.dev/2.11/v/extra_forbidden\ncontents.list[union[Content,list[union[File,Part,str]],File,Part,str]].0.Part.expiration_time\n  Extra inputs are not permitted [type=extra_forbidden, input_value=DatetimeWithNanoseconds(2...o=datetime.timezone.utc), input_type=DatetimeWithNanoseconds]\n    For further information visit https://errors.pydantic.dev/2.11/v/extra_forbidden\ncontents.list[union[Content,list[union[File,Part,str]],File,Part,str]].0.Part.update_time\n  Extra inputs are not permitted [type=extra_forbidden, input_value=DatetimeWithNanoseconds(2...o=datetime.timezone.utc), input_type=DatetimeWithNanoseconds]\n    For further information visit https://errors.pydantic.dev/2.11/v/extra_forbidden\ncontents.list[union[Content,list[union[File,Part,str]],File,Part,str]].0.str\n  Input should be a valid string [type=string_type, input_value={'name': 'files/hfk4fwlgl...=datetime.timezone.utc)}, input_type=dict]\n    For further information visit https://errors.pydantic.dev/2.11/v/string_type\ncontents.Content\n  Input should be a valid dictionary or object to extract fields from [type=model_attributes_type, input_value=[{'name': 'files/hfk4fwlg...'Give an image about' \"], input_type=list]\n    For further information visit https://errors.pydantic.dev/2.11/v/model_attributes_type\ncontents.list[union[File,Part,str]].0.File.state\n  Input should be 'STATE_UNSPECIFIED', 'PROCESSING', 'ACTIVE' or 'FAILED' [type=enum, input_value=<State.ACTIVE: 2>, input_type=File.State]\n    For further information visit https://errors.pydantic.dev/2.11/v/enum\ncontents.list[union[File,Part,str]].0.Part.name\n  Extra inputs are not permitted [type=extra_forbidden, input_value='files/hfk4fwlglg58', input_type=str]\n    For further information visit https://errors.pydantic.dev/2.11/v/extra_forbidden\ncontents.list[union[File,Part,str]].0.Part.display_name\n  Extra inputs are not permitted [type=extra_forbidden, input_value='', input_type=str]\n    For further information visit https://errors.pydantic.dev/2.11/v/extra_forbidden\ncontents.list[union[File,Part,str]].0.Part.mime_type\n  Extra inputs are not permitted [type=extra_forbidden, input_value='image/jpeg', input_type=str]\n    For further information visit https://errors.pydantic.dev/2.11/v/extra_forbidden\ncontents.list[union[File,Part,str]].0.Part.sha256_hash\n  Extra inputs are not permitted [type=extra_forbidden, input_value=b'35b65a6c314b978795565f0...4de0b642a95044814cb15f6', input_type=bytes]\n    For further information visit https://errors.pydantic.dev/2.11/v/extra_forbidden\ncontents.list[union[File,Part,str]].0.Part.size_bytes\n  Extra inputs are not permitted [type=extra_forbidden, input_value=155314, input_type=int]\n    For further information visit https://errors.pydantic.dev/2.11/v/extra_forbidden\ncontents.list[union[File,Part,str]].0.Part.state\n  Extra inputs are not permitted [type=extra_forbidden, input_value=<State.ACTIVE: 2>, input_type=File.State]\n    For further information visit https://errors.pydantic.dev/2.11/v/extra_forbidden\ncontents.list[union[File,Part,str]].0.Part.uri\n  Extra inputs are not permitted [type=extra_forbidden, input_value='https://generativelangua...beta/files/hfk4fwlglg58', input_type=str]\n    For further information visit https://errors.pydantic.dev/2.11/v/extra_forbidden\ncontents.list[union[File,Part,str]].0.Part.create_time\n  Extra inputs are not permitted [type=extra_forbidden, input_value=DatetimeWithNanoseconds(2...o=datetime.timezone.utc), input_type=DatetimeWithNanoseconds]\n    For further information visit https://errors.pydantic.dev/2.11/v/extra_forbidden\ncontents.list[union[File,Part,str]].0.Part.expiration_time\n  Extra inputs are not permitted [type=extra_forbidden, input_value=DatetimeWithNanoseconds(2...o=datetime.timezone.utc), input_type=DatetimeWithNanoseconds]\n    For further information visit https://errors.pydantic.dev/2.11/v/extra_forbidden\ncontents.list[union[File,Part,str]].0.Part.update_time\n  Extra inputs are not permitted [type=extra_forbidden, input_value=DatetimeWithNanoseconds(2...o=datetime.timezone.utc), input_type=DatetimeWithNanoseconds]\n    For further information visit https://errors.pydantic.dev/2.11/v/extra_forbidden\ncontents.list[union[File,Part,str]].0.str\n  Input should be a valid string [type=string_type, input_value={'name': 'files/hfk4fwlgl...=datetime.timezone.utc)}, input_type=dict]\n    For further information visit https://errors.pydantic.dev/2.11/v/string_type\ncontents.File\n  Input should be a valid dictionary or object to extract fields from [type=model_attributes_type, input_value=[{'name': 'files/hfk4fwlg...'Give an image about' \"], input_type=list]\n    For further information visit https://errors.pydantic.dev/2.11/v/model_attributes_type\ncontents.Part\n  Input should be a valid dictionary or object to extract fields from [type=model_attributes_type, input_value=[{'name': 'files/hfk4fwlg...'Give an image about' \"], input_type=list]\n    For further information visit https://errors.pydantic.dev/2.11/v/model_attributes_type\ncontents.str\n  Input should be a valid string [type=string_type, input_value=[{'name': 'files/hfk4fwlg...'Give an image about' \"], input_type=list]\n    For further information visit https://errors.pydantic.dev/2.11/v/string_type"
     ]
    }
   ],
   "source": [
    "from google import genai as new_genai\n",
    "from google.genai import types\n",
    "import os\n",
    "\n",
    "client = new_genai.Client(api_key=os.environ[\"GEMINI_API_KEY\"])\n",
    "\n",
    "# Get the file object using the older library\n",
    "file_obj = genai2.get_file(myfile.name)\n",
    "\n",
    "# Convert it to a dictionary with only supported fields.\n",
    "file_data = file_to_dict(file_obj)\n",
    "\n",
    "response = client.models.generate_content(\n",
    "    model='gemini-2.0-flash',\n",
    "    contents=[\n",
    "        file_data,\n",
    "        \"\\n\\n\",\n",
    "        \"Describe the image in detail in 2 sentences. Start your response with 'Give an image about' \"\n",
    "    ],\n",
    "    config=types.GenerateContentConfig(\n",
    "        system_instruction=\"You are a helpful assistant\",\n",
    "        tools=[\n",
    "            types.Tool(\n",
    "                google_search=types.GoogleSearchRetrieval(\n",
    "                    dynamic_retrieval_config=types.DynamicRetrievalConfig(dynamic_threshold=0.6)\n",
    "                )\n",
    "            )\n",
    "        ],\n",
    "    ),\n",
    ")\n",
    "result = response.text\n"
   ]
  },
  {
   "cell_type": "code",
   "execution_count": 46,
   "metadata": {},
   "outputs": [
    {
     "data": {
      "text/plain": [
       "'The document presents an assignment for a practical exam in an introductory course, likely religious studies focusing on Catholicism or Christianity.\\xa0\\n\\n\\nHere\\'s a breakdown of the document\\'s content:\\n\\n**Title:** TUGAS PENGANTAR UJIAN PRAKTIK (Assignment for Introductory Practical Exam)\\n\\n**Instructions (Petunjuk pengerjaan tugas):**  These instructions detail the steps students must take to complete the assignment:\\n\\n1. Attend a Eucharistic celebration or service at a Catholic or Protestant church.\\n2. Actively listen to the homily/sermon during the service.\\n3. Answer the provided questions based on their experience.\\n4. Include photographic evidence of their attendance at the service.\\n\\n**Questions (PERTANYAAN):** These are the core questions students must answer:\\n\\n1. Understanding of the \"Kerygma\" (the Church\\'s proclamation of the Gospel).\\n2. Context of the service attended (e.g., Sunday Mass, wedding Mass, funeral Mass).\\n3. Evaluation of the homily\\'s quality and reasons for that judgment.\\n4. Transcription of the scripture passage read/discussed during the homily, along with the student\\'s interpretation of its message.\\n5. Identification of any calls to action for the laity (non-clergy) in relation to the Kerygma and a summary of those calls.\\n\\nThe overall assignment is designed to encourage active participation in religious service and reflective thinking about the core message of the church. The assignment heavily emphasizes personal experience and reflection, requiring students to synthesize their observations and theological understanding.'"
      ]
     },
     "execution_count": 46,
     "metadata": {},
     "output_type": "execute_result"
    }
   ],
   "source": [
    "result.text"
   ]
  },
  {
   "cell_type": "code",
   "execution_count": 136,
   "metadata": {},
   "outputs": [],
   "source": [
    "temp = genai2.get_file(myfile.name)"
   ]
  },
  {
   "cell_type": "code",
   "execution_count": null,
   "metadata": {},
   "outputs": [],
   "source": [
    "client.get_file"
   ]
  }
 ],
 "metadata": {
  "kernelspec": {
   "display_name": ".venv",
   "language": "python",
   "name": "python3"
  },
  "language_info": {
   "codemirror_mode": {
    "name": "ipython",
    "version": 3
   },
   "file_extension": ".py",
   "mimetype": "text/x-python",
   "name": "python",
   "nbconvert_exporter": "python",
   "pygments_lexer": "ipython3",
   "version": "3.12.4"
  }
 },
 "nbformat": 4,
 "nbformat_minor": 2
}
