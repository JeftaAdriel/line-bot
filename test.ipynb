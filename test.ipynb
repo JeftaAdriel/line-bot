{
 "cells": [
  {
   "cell_type": "code",
   "execution_count": 45,
   "metadata": {},
   "outputs": [
    {
     "data": {
      "text/plain": [
       "True"
      ]
     },
     "execution_count": 45,
     "metadata": {},
     "output_type": "execute_result"
    }
   ],
   "source": [
    "import os\n",
    "\n",
    "from dotenv import load_dotenv\n",
    "from pydantic_ai import Agent\n",
    "from collections import deque\n",
    "\n",
    "import config\n",
    "\n",
    "load_dotenv()"
   ]
  },
  {
   "cell_type": "code",
   "execution_count": 21,
   "metadata": {},
   "outputs": [
    {
     "name": "stdout",
     "output_type": "stream",
     "text": [
      "RunResult(_all_messages=[ModelRequest(parts=[SystemPromptPart(content='Be concise, reply with one sentence.', part_kind='system-prompt'), UserPromptPart(content='Where does \"hello world\" come from?', timestamp=datetime.datetime(2025, 1, 4, 12, 51, 39, 841783, tzinfo=datetime.timezone.utc), part_kind='user-prompt')], kind='request'), ModelResponse(parts=[TextPart(content='The phrase \"hello world\" originates from a 1972 programming book by Brian Kernighan, who used it as a simple example program to illustrate the basics of the C programming language.', part_kind='text')], timestamp=datetime.datetime(2025, 1, 4, 12, 51, 38, tzinfo=datetime.timezone.utc), kind='response')], _new_message_index=0, data='The phrase \"hello world\" originates from a 1972 programming book by Brian Kernighan, who used it as a simple example program to illustrate the basics of the C programming language.', _usage=Usage(requests=1, request_tokens=52, response_tokens=39, total_tokens=91, details=None))\n"
     ]
    }
   ],
   "source": [
    "from pydantic_ai import Agent\n",
    "\n",
    "agent = Agent(  \n",
    "    f\"groq:{config.GROQ_MODEL}\",\n",
    "    system_prompt='Be concise, reply with one sentence.',  \n",
    ")\n",
    "\n",
    "async def main():\n",
    "    result = await agent.run('Where does \"hello world\" come from?')\n",
    "    print(result)\n",
    "    return result\n",
    "\n",
    "# Run the async function in Jupyter\n",
    "result = await main()"
   ]
  },
  {
   "cell_type": "code",
   "execution_count": 22,
   "metadata": {},
   "outputs": [
    {
     "data": {
      "text/plain": [
       "<bound method Agent._prepare_messages of Agent(model=GroqModel(model_name='llama-3.3-70b-versatile'), name='agent', end_strategy='early', model_settings=None)>"
      ]
     },
     "execution_count": 22,
     "metadata": {},
     "output_type": "execute_result"
    }
   ],
   "source": [
    "agent._prepare_messages"
   ]
  },
  {
   "cell_type": "code",
   "execution_count": 31,
   "metadata": {},
   "outputs": [
    {
     "data": {
      "text/plain": [
       "Usage(requests=1, request_tokens=52, response_tokens=39, total_tokens=91, details=None)"
      ]
     },
     "execution_count": 31,
     "metadata": {},
     "output_type": "execute_result"
    }
   ],
   "source": [
    "result._usage"
   ]
  },
  {
   "cell_type": "code",
   "execution_count": 32,
   "metadata": {},
   "outputs": [],
   "source": [
    "from pydantic import BaseModel\n",
    "\n",
    "class Testing(BaseModel):\n",
    "    number: int\n",
    "    test: str\n",
    "\n",
    "test = Testing(number=1, test=\"test\")"
   ]
  },
  {
   "cell_type": "code",
   "execution_count": 40,
   "metadata": {},
   "outputs": [
    {
     "data": {
      "text/plain": [
       "str"
      ]
     },
     "execution_count": 40,
     "metadata": {},
     "output_type": "execute_result"
    }
   ],
   "source": [
    "type(test.model_dump_json())"
   ]
  },
  {
   "cell_type": "code",
   "execution_count": 41,
   "metadata": {},
   "outputs": [],
   "source": [
    "a = {\"a\": 1, \"b\": 2, \"c\": 3}"
   ]
  },
  {
   "cell_type": "code",
   "execution_count": 44,
   "metadata": {},
   "outputs": [],
   "source": [
    "if 1 in a:\n",
    "    print(\"yes\")"
   ]
  },
  {
   "cell_type": "code",
   "execution_count": 53,
   "metadata": {},
   "outputs": [
    {
     "data": {
      "text/plain": [
       "deque(['dan', 'kamu', 'mau'], maxlen=3)"
      ]
     },
     "execution_count": 53,
     "metadata": {},
     "output_type": "execute_result"
    }
   ],
   "source": [
    "test = deque([\"saya\", \"dan\", \"kamu\"], maxlen=3)\n",
    "test.append(\"mau\")\n",
    "test"
   ]
  },
  {
   "cell_type": "code",
   "execution_count": 51,
   "metadata": {},
   "outputs": [
    {
     "name": "stdout",
     "output_type": "stream",
     "text": [
      "dan\n",
      "kamu\n",
      "mau\n",
      "\n"
     ]
    }
   ],
   "source": [
    "print(\"\".join(f\"{chat}\\n\" for chat in test))"
   ]
  },
  {
   "cell_type": "code",
   "execution_count": 54,
   "metadata": {},
   "outputs": [
    {
     "data": {
      "text/plain": [
       "deque(['dan', 'kamu'], maxlen=3)"
      ]
     },
     "execution_count": 54,
     "metadata": {},
     "output_type": "execute_result"
    }
   ],
   "source": [
    "test.pop()\n",
    "test"
   ]
  },
  {
   "cell_type": "code",
   "execution_count": null,
   "metadata": {},
   "outputs": [],
   "source": []
  }
 ],
 "metadata": {
  "kernelspec": {
   "display_name": ".venv",
   "language": "python",
   "name": "python3"
  },
  "language_info": {
   "codemirror_mode": {
    "name": "ipython",
    "version": 3
   },
   "file_extension": ".py",
   "mimetype": "text/x-python",
   "name": "python",
   "nbconvert_exporter": "python",
   "pygments_lexer": "ipython3",
   "version": "3.12.4"
  }
 },
 "nbformat": 4,
 "nbformat_minor": 2
}
